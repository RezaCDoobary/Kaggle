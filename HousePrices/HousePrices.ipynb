{
 "cells": [
  {
   "cell_type": "code",
   "execution_count": 345,
   "metadata": {
    "collapsed": true
   },
   "outputs": [],
   "source": [
    "import ML.preprocessing as preprocessing\n",
    "import ML.linearModels as linearModels\n",
    "import ML.measurements as measurements\n",
    "\n",
    "import pandas as pd\n",
    "import numpy as np\n",
    "import matplotlib.pyplot as plt\n",
    "import scipy.stats\n",
    "%matplotlib inline  "
   ]
  },
  {
   "cell_type": "markdown",
   "metadata": {},
   "source": [
    "# 1. Opening data"
   ]
  },
  {
   "cell_type": "code",
   "execution_count": 346,
   "metadata": {
    "collapsed": true
   },
   "outputs": [],
   "source": [
    "#Open data\n",
    "df_train = pd.read_csv('train.csv')\n",
    "df_test = pd.read_csv('test.csv')\n",
    "\n",
    "#set the index to the ID\n",
    "df_train = df_train.set_index('Id');\n",
    "df_test = df_test.set_index('Id');"
   ]
  },
  {
   "cell_type": "code",
   "execution_count": 347,
   "metadata": {
    "collapsed": true
   },
   "outputs": [],
   "source": [
    "COLUMNS = df_train.columns"
   ]
  },
  {
   "cell_type": "code",
   "execution_count": 348,
   "metadata": {
    "collapsed": true
   },
   "outputs": [],
   "source": [
    "#put together all data that we have, this will make it easier to produce one-hot vectors, etc.\n",
    "TARGET = ['SalePrice']\n",
    "FEATURES = list(set(COLUMNS) - set(TARGET))\n",
    "df_all = pd.concat((df_train[FEATURES],df_test[FEATURES]))"
   ]
  },
  {
   "cell_type": "code",
   "execution_count": 349,
   "metadata": {},
   "outputs": [
    {
     "name": "stdout",
     "output_type": "stream",
     "text": [
      "column seperation works out\n"
     ]
    }
   ],
   "source": [
    "#Finally it is potentially useful to seperate out the different columns labels (i.e. features)\n",
    "NUMERICAL = np.array(['LotFrontage','LotArea','MasVnrArea','BsmtFinSF1',\\\n",
    "             'BsmtFinSF2','BsmtUnfSF','TotalBsmtSF','1stFlrSF','2ndFlrSF','LowQualFinSF',\\\n",
    "            'GrLivArea','BsmtFullBath','BsmtHalfBath','FullBath','HalfBath','BedroomAbvGr','KitchenAbvGr',\\\n",
    "                      'TotRmsAbvGrd','Fireplaces','GarageCars','GarageArea','WoodDeckSF',\\\n",
    "                      'OpenPorchSF','EnclosedPorch'\\\n",
    "             ,'3SsnPorch','ScreenPorch','PoolArea','MiscVal'])\n",
    "YEARS = np.array(['YearBuilt','YearRemodAdd','YrSold','GarageYrBlt'],dtype = 'U25')\n",
    "TARGET = ['SalePrice']\n",
    "\n",
    "CATEGORICAL = set(COLUMNS) - set(NUMERICAL)\n",
    "CATEGORICAL -= set(YEARS)\n",
    "CATEGORICAL -= set(TARGET)\n",
    "CATEGORICAL = np.array(list(CATEGORICAL))\n",
    "\n",
    "\n",
    "#A quick check that this works out:\n",
    "COLUMN_UNION = set(NUMERICAL).union(set(YEARS)).union(set(CATEGORICAL))\n",
    "if set(COLUMNS) - COLUMN_UNION == set(TARGET):\n",
    "    print('column seperation works out')"
   ]
  },
  {
   "cell_type": "markdown",
   "metadata": {},
   "source": [
    "# 2. Dealing with NULLS"
   ]
  },
  {
   "cell_type": "markdown",
   "metadata": {},
   "source": [
    "We are required to deal with null values via the three columns type above:\n",
    "1. Numerical values (NUMERICAL) - the nulls will need to filled in a context dependent manner. \n",
    "2. Categorical values (CATEGORICAL) - the nulls will largely be given their own category in a contextual manner subject to the data description(i.e. sometimes NA means 'None'\n",
    "3. Date values (YEARS)."
   ]
  },
  {
   "cell_type": "markdown",
   "metadata": {},
   "source": [
    "### 2.1 NUMERICAL"
   ]
  },
  {
   "cell_type": "code",
   "execution_count": 350,
   "metadata": {
    "collapsed": true
   },
   "outputs": [],
   "source": [
    "def nullsByColTypes(COL_TYPE):\n",
    "    df_nulls = df_all[COL_TYPE].isnull().sum()\n",
    "    return df_nulls[df_nulls > 0]"
   ]
  },
  {
   "cell_type": "code",
   "execution_count": 351,
   "metadata": {},
   "outputs": [
    {
     "data": {
      "text/plain": [
       "LotFrontage     486\n",
       "MasVnrArea       23\n",
       "BsmtFinSF1        1\n",
       "BsmtFinSF2        1\n",
       "BsmtUnfSF         1\n",
       "TotalBsmtSF       1\n",
       "BsmtFullBath      2\n",
       "BsmtHalfBath      2\n",
       "GarageCars        1\n",
       "GarageArea        1\n",
       "dtype: int64"
      ]
     },
     "execution_count": 351,
     "metadata": {},
     "output_type": "execute_result"
    }
   ],
   "source": [
    "nullsByColTypes(NUMERICAL)"
   ]
  },
  {
   "cell_type": "code",
   "execution_count": 352,
   "metadata": {},
   "outputs": [
    {
     "data": {
      "text/plain": [
       "True"
      ]
     },
     "execution_count": 352,
     "metadata": {},
     "output_type": "execute_result"
    }
   ],
   "source": [
    "#Since these are all related to the structure of the house - we make the assumption that these depend on the \n",
    "#neighbourhood, and subjected to the median (and thus existing) architecture.\n",
    "\n",
    "NUMERICAL_NAN_INDICES = nullsByColTypes(NUMERICAL).index \n",
    "for COLS in NUMERICAL_NAN_INDICES:\n",
    "    df_all[COLS] = df_all.groupby(['Neighborhood'])[COLS].transform(lambda x: x.fillna(x.median()))\n",
    "\n",
    "#Quick check that this fills the nulls accordingly\n",
    "nullsByColTypes(NUMERICAL).empty"
   ]
  },
  {
   "cell_type": "markdown",
   "metadata": {},
   "source": [
    "### 2.2 CATEGORICAL"
   ]
  },
  {
   "cell_type": "code",
   "execution_count": 353,
   "metadata": {},
   "outputs": [
    {
     "data": {
      "text/plain": [
       "KitchenQual        1\n",
       "BsmtFinType1      79\n",
       "Fence           2348\n",
       "Exterior2nd        1\n",
       "MasVnrType        24\n",
       "Utilities          2\n",
       "Alley           2721\n",
       "MiscFeature     2814\n",
       "GarageQual       159\n",
       "Functional         2\n",
       "BsmtExposure      82\n",
       "GarageFinish     159\n",
       "FireplaceQu     1420\n",
       "MSZoning           4\n",
       "BsmtCond          82\n",
       "GarageType       157\n",
       "PoolQC          2909\n",
       "Electrical         1\n",
       "GarageCond       159\n",
       "BsmtFinType2      80\n",
       "SaleType           1\n",
       "BsmtQual          81\n",
       "Exterior1st        1\n",
       "dtype: int64"
      ]
     },
     "execution_count": 353,
     "metadata": {},
     "output_type": "execute_result"
    }
   ],
   "source": [
    "nullsByColTypes(CATEGORICAL)"
   ]
  },
  {
   "cell_type": "code",
   "execution_count": 354,
   "metadata": {
    "collapsed": true
   },
   "outputs": [],
   "source": [
    "#There are categories data columns where NA is meaningful in the sense that it means 'None'. This can be infered\n",
    "#from the data description.\n",
    "NONE_COLS = ['Alley','MasVnrType','BsmtFinType1','MiscFeature','GarageFinish','FireplaceQu','PoolQC','BsmtCond'\\\n",
    "        ,'GarageQual','Fence','BsmtExposure','BsmtQual','BsmtFinType2','GarageCond','GarageType']\n",
    "\n",
    "df_all[NONE_COLS] = df_all[NONE_COLS].transform(lambda x:x.fillna('None'))"
   ]
  },
  {
   "cell_type": "code",
   "execution_count": 355,
   "metadata": {},
   "outputs": [
    {
     "data": {
      "text/plain": [
       "KitchenQual    1\n",
       "Exterior2nd    1\n",
       "Utilities      2\n",
       "Functional     2\n",
       "MSZoning       4\n",
       "Electrical     1\n",
       "SaleType       1\n",
       "Exterior1st    1\n",
       "dtype: int64"
      ]
     },
     "execution_count": 355,
     "metadata": {},
     "output_type": "execute_result"
    }
   ],
   "source": [
    "nullsByColTypes(CATEGORICAL)"
   ]
  },
  {
   "cell_type": "code",
   "execution_count": 356,
   "metadata": {},
   "outputs": [
    {
     "data": {
      "text/plain": [
       "True"
      ]
     },
     "execution_count": 356,
     "metadata": {},
     "output_type": "execute_result"
    }
   ],
   "source": [
    "#The remaining categorical data is simply nan due to unreconisable reasons, they are therefore set to the mode:\n",
    "INDICES = nullsByColTypes(CATEGORICAL).index\n",
    "\n",
    "for REM_COLS in INDICES:\n",
    "    df_all[REM_COLS] = df_all[REM_COLS].fillna(df_all[REM_COLS].mode()[0])\n",
    "    \n",
    "#Quick check that this fills the nulls accordingly\n",
    "nullsByColTypes(CATEGORICAL).empty"
   ]
  },
  {
   "cell_type": "markdown",
   "metadata": {},
   "source": [
    "### 2.3 YEARS"
   ]
  },
  {
   "cell_type": "code",
   "execution_count": 357,
   "metadata": {},
   "outputs": [
    {
     "data": {
      "text/plain": [
       "GarageYrBlt    159\n",
       "dtype: int64"
      ]
     },
     "execution_count": 357,
     "metadata": {},
     "output_type": "execute_result"
    }
   ],
   "source": [
    "nullsByColTypes(YEARS)"
   ]
  },
  {
   "cell_type": "code",
   "execution_count": 358,
   "metadata": {
    "collapsed": true
   },
   "outputs": [],
   "source": [
    "#Question : Is there a good reason there are null?\n",
    "#Consider data pertitnent to the garage\n",
    "GARAGE = ['GarageYrBlt','GarageType','GarageFinish','GarageCars','GarageArea','GarageQual','GarageCond']\n",
    "df_garage = df_all[GARAGE]\n",
    "df_nan_garage = df_garage[df_garage['GarageYrBlt'].isnull()]\n",
    "\n",
    "#There are null values for GarageYrBlt which is because a garage does not exist AND those which are simply null.\n",
    "df_nan_garage_None = df_nan_garage[df_nan_garage['GarageType'] == 'None']\n",
    "df_nan_garage_notNone = df_nan_garage[df_nan_garage['GarageType'] != 'None']"
   ]
  },
  {
   "cell_type": "code",
   "execution_count": 359,
   "metadata": {
    "collapsed": true
   },
   "outputs": [],
   "source": [
    "#For those values of GarageYrBlt which are null due to no existing garage\n",
    "df_all.loc[df_nan_garage_None.index,'GarageYrBlt'] \\\n",
    "= df_all.loc[df_nan_garage_None.index,'GarageYrBlt'].transform(lambda x:x.fillna(0));"
   ]
  },
  {
   "cell_type": "code",
   "execution_count": 360,
   "metadata": {},
   "outputs": [
    {
     "data": {
      "text/plain": [
       "GarageYrBlt    2\n",
       "dtype: int64"
      ]
     },
     "execution_count": 360,
     "metadata": {},
     "output_type": "execute_result"
    }
   ],
   "source": [
    "nullsByColTypes(YEARS)"
   ]
  },
  {
   "cell_type": "code",
   "execution_count": 361,
   "metadata": {
    "collapsed": true
   },
   "outputs": [],
   "source": [
    "#The remaining is set to zero also\n",
    "df_all.loc[df_nan_garage_notNone.index,'GarageYrBlt'] \\\n",
    "= df_all.loc[df_nan_garage_notNone.index,'GarageYrBlt'].transform(lambda x:x.fillna(0));"
   ]
  },
  {
   "cell_type": "code",
   "execution_count": 362,
   "metadata": {},
   "outputs": [
    {
     "data": {
      "text/plain": [
       "True"
      ]
     },
     "execution_count": 362,
     "metadata": {},
     "output_type": "execute_result"
    }
   ],
   "source": [
    "nullsByColTypes(YEARS).empty"
   ]
  },
  {
   "cell_type": "markdown",
   "metadata": {},
   "source": [
    "### 2.4 Final NULL analysis"
   ]
  },
  {
   "cell_type": "code",
   "execution_count": 363,
   "metadata": {},
   "outputs": [
    {
     "data": {
      "text/plain": [
       "True"
      ]
     },
     "execution_count": 363,
     "metadata": {},
     "output_type": "execute_result"
    }
   ],
   "source": [
    "nullsByColTypes(df_all.columns).empty"
   ]
  },
  {
   "cell_type": "markdown",
   "metadata": {
    "collapsed": true
   },
   "source": [
    "# 3. Dealing with skew data"
   ]
  },
  {
   "cell_type": "markdown",
   "metadata": {},
   "source": [
    "As we shall see much of the data is skewed and since a fundamental assumption of linear models are normally distributed variables we solve this."
   ]
  },
  {
   "cell_type": "code",
   "execution_count": 364,
   "metadata": {},
   "outputs": [
    {
     "data": {
      "text/plain": [
       "3SsnPorch        11.381914\n",
       "LotFrontage       1.506478\n",
       "GarageYrBlt      -3.908213\n",
       "FullBath          0.167692\n",
       "GrLivArea         1.270010\n",
       "EnclosedPorch     4.005950\n",
       "ScreenPorch       3.948723\n",
       "WoodDeckSF        1.843380\n",
       "PoolArea         16.907017\n",
       "MoSold            0.195985\n",
       "BedroomAbvGr      0.326492\n",
       "BsmtHalfBath      3.933616\n",
       "YearBuilt        -0.600114\n",
       "YearRemodAdd     -0.451252\n",
       "OpenPorchSF       2.536417\n",
       "2ndFlrSF          0.862118\n",
       "LotArea          12.829025\n",
       "GarageArea        0.241916\n",
       "HalfBath          0.694924\n",
       "GarageCars       -0.217611\n",
       "MasVnrArea        2.611228\n",
       "TotRmsAbvGrd      0.758757\n",
       "OverallQual       0.197212\n",
       "TotalBsmtSF       1.163409\n",
       "BsmtFullBath      0.625153\n",
       "1stFlrSF          1.470360\n",
       "BsmtUnfSF         0.920064\n",
       "LowQualFinSF     12.094977\n",
       "YrSold            0.132467\n",
       "BsmtFinSF1        1.426128\n",
       "BsmtFinSF2        4.148275\n",
       "MSSubClass        1.376165\n",
       "Fireplaces        0.733872\n",
       "MiscVal          21.958480\n",
       "OverallCond       0.570605\n",
       "KitchenAbvGr      4.304467\n",
       "dtype: float64"
      ]
     },
     "execution_count": 364,
     "metadata": {},
     "output_type": "execute_result"
    }
   ],
   "source": [
    "df_all.skew()"
   ]
  },
  {
   "cell_type": "code",
   "execution_count": 365,
   "metadata": {},
   "outputs": [
    {
     "data": {
      "text/plain": [
       "SalePrice    1.882876\n",
       "dtype: float64"
      ]
     },
     "execution_count": 365,
     "metadata": {},
     "output_type": "execute_result"
    }
   ],
   "source": [
    "df_train[TARGET].skew()"
   ]
  },
  {
   "cell_type": "code",
   "execution_count": 366,
   "metadata": {},
   "outputs": [
    {
     "name": "stdout",
     "output_type": "stream",
     "text": [
      "Clearly very skew data...\n"
     ]
    },
    {
     "data": {
      "image/png": "[encoded data removed]",
      "text/plain": [
       "<matplotlib.figure.Figure at 0x11ea6fe80>"
      ]
     },
     "metadata": {},
     "output_type": "display_data"
    },
    {
     "name": "stdout",
     "output_type": "stream",
     "text": [
      "Clearly slightly more normalised data...\n"
     ]
    },
    {
     "data": {
      "image/png": "[encoded data removed]",
      "text/plain": [
       "<matplotlib.figure.Figure at 0x113993048>"
      ]
     },
     "metadata": {},
     "output_type": "display_data"
    }
   ],
   "source": [
    "#Let us unskew the target varible:\n",
    "\n",
    "X = df_train[TARGET].as_matrix().ravel()\n",
    "print('Clearly very skew data...')\n",
    "fig , axs = plt.subplots(1,2,figsize=(10,2))\n",
    "plt.setp( axs[0].xaxis.get_majorticklabels(), rotation=70)\n",
    "a = axs[0].hist(X,bins = 40)\n",
    "plt.setp( axs[1].xaxis.get_majorticklabels(), rotation=70 )\n",
    "\n",
    "scipy.stats.probplot(X, dist=\"norm\", plot=plt)\n",
    "plt.show(axs[1])\n",
    "\n",
    "print('Clearly slightly more normalised data...')\n",
    "X = np.log1p(X)\n",
    "fig , axs = plt.subplots(1,2,figsize=(10,2))\n",
    "plt.setp( axs[0].xaxis.get_majorticklabels(), rotation=70)\n",
    "a = axs[0].hist(X,bins = 40)\n",
    "plt.setp( axs[1].xaxis.get_majorticklabels(), rotation=70 )\n",
    "\n",
    "scipy.stats.probplot(X, dist=\"norm\", plot=plt)\n",
    "plt.show(axs[1])"
   ]
  },
  {
   "cell_type": "code",
   "execution_count": 367,
   "metadata": {},
   "outputs": [
    {
     "data": {
      "text/plain": [
       "SalePrice    0.121347\n",
       "dtype: float64"
      ]
     },
     "execution_count": 367,
     "metadata": {},
     "output_type": "execute_result"
    }
   ],
   "source": [
    "df_train[TARGET] = np.log1p(df_train[TARGET])\n",
    "df_train[TARGET].skew()"
   ]
  },
  {
   "cell_type": "code",
   "execution_count": 368,
   "metadata": {
    "collapsed": true
   },
   "outputs": [],
   "source": [
    "skew = df_all[NUMERICAL].skew()\n",
    "SKEWED_COLS = skew[abs(skew) > 0.75].index"
   ]
  },
  {
   "cell_type": "code",
   "execution_count": 369,
   "metadata": {
    "collapsed": true
   },
   "outputs": [],
   "source": [
    "df_all[SKEWED_COLS] = np.log(1+df_all[SKEWED_COLS])"
   ]
  },
  {
   "cell_type": "markdown",
   "metadata": {},
   "source": [
    "# 4. Changing categorical data into one-hot vectors"
   ]
  },
  {
   "cell_type": "code",
   "execution_count": 370,
   "metadata": {
    "collapsed": true
   },
   "outputs": [],
   "source": [
    "#Make use of a function from the ML implementation.\n",
    "NEWCATEGORICAL ,df_all = preprocessing.fromCatergoricalToOneHot(CATEGORICAL,[df_all])\n",
    "df_all = df_all[0]"
   ]
  },
  {
   "cell_type": "code",
   "execution_count": 371,
   "metadata": {},
   "outputs": [
    {
     "name": "stdout",
     "output_type": "stream",
     "text": [
      "column seperation works out\n"
     ]
    }
   ],
   "source": [
    "#Recheck column count\n",
    "COLUMNS = df_all.columns\n",
    "COLUMN_UNION = set(NUMERICAL).union(set(YEARS)).union(set(NEWCATEGORICAL))\n",
    "if set(COLUMNS) - COLUMN_UNION == set():\n",
    "    print('column seperation works out')"
   ]
  },
  {
   "cell_type": "markdown",
   "metadata": {
    "collapsed": true
   },
   "source": [
    "# 5. Modelling"
   ]
  },
  {
   "cell_type": "markdown",
   "metadata": {},
   "source": [
    "### 5.1 Validation sets"
   ]
  },
  {
   "cell_type": "code",
   "execution_count": 372,
   "metadata": {
    "collapsed": true,
    "scrolled": false
   },
   "outputs": [],
   "source": [
    "X_train = df_all[:df_train.shape[0]]\n",
    "X_test = df_all[df_train.shape[0]:]\n",
    "y = df_train.SalePrice\n",
    "train = pd.concat([X_train,y],axis = 1)"
   ]
  },
  {
   "cell_type": "code",
   "execution_count": 373,
   "metadata": {},
   "outputs": [
    {
     "name": "stdout",
     "output_type": "stream",
     "text": [
      "train/test split with 20.0 resampled as test data\n",
      "There are 5 sets\n"
     ]
    }
   ],
   "source": [
    "valSets = preprocessing.split(train,0.2)"
   ]
  },
  {
   "cell_type": "code",
   "execution_count": 374,
   "metadata": {},
   "outputs": [
    {
     "name": "stdout",
     "output_type": "stream",
     "text": [
      "valSets is a dictionary\n",
      "valSets keys are the sets themselves: dict_keys([1, 2, 3, 4, 5])\n",
      "Consider a key 1 : itself a dictionary with keys dict_keys(['test', 'train'])\n",
      "shape of training set : (1168, 346)\n",
      "shape of testing set : (292, 346)\n"
     ]
    }
   ],
   "source": [
    "#to demonstrate how valSets works:\n",
    "print('valSets is a dictionary')\n",
    "print('valSets keys are the sets themselves:',valSets.keys())\n",
    "print('Consider a key 1 : itself a dictionary with keys',valSets[1].keys())\n",
    "\n",
    "\n",
    "print('shape of training set :',valSets[1]['train'].shape)\n",
    "print('shape of testing set :',valSets[1]['test'].shape)"
   ]
  },
  {
   "cell_type": "code",
   "execution_count": 375,
   "metadata": {
    "collapsed": true
   },
   "outputs": [],
   "source": [
    "#Validation scheme works as follows:\n",
    "\n",
    "#1) Separate into various sets for cross validation, train on each (X_train,y_train), test on (X_test,y_test).\n",
    "FEATURES = np.array(list(X_train.columns))\n",
    "\n",
    "X_train_set = [valSets[i]['train'][FEATURES].as_matrix() for i in list(valSets.keys())]\n",
    "y_train_set = [valSets[i]['train'][TARGET].as_matrix() for i in list(valSets.keys())]\n",
    "\n",
    "X_test_set = [valSets[i]['test'][FEATURES].as_matrix() for i in list(valSets.keys())]\n",
    "y_test_set = [valSets[i]['test'][TARGET].as_matrix() for i in list(valSets.keys())]\n",
    "\n",
    "#2) create a model performance function, which tests of the RMSLE, root mean square log error. \n",
    "#This is taken from ML.measurements.\n",
    "\n",
    "def modelPerformance(model,ravelRequired = False):\n",
    "    metrics = measurements.measurements()\n",
    "    performance = []\n",
    "    for i in range(0,len(X_train_set)):\n",
    "        model.fit(X_train_set[i],y_train_set[i].ravel())\n",
    "        result = model.predict(X_test_set[i])\n",
    "        performance.append(metrics.RMSLE(result,y_test_set[i]))\n",
    "    return np.array(performance).mean()\n",
    "\n"
   ]
  },
  {
   "cell_type": "markdown",
   "metadata": {},
   "source": [
    "### 5.2 Scoring individual models"
   ]
  },
  {
   "cell_type": "markdown",
   "metadata": {},
   "source": [
    "#### Basic Linear Regression"
   ]
  },
  {
   "cell_type": "code",
   "execution_count": 376,
   "metadata": {},
   "outputs": [
    {
     "data": {
      "text/plain": [
       "0.04757080798841219"
      ]
     },
     "execution_count": 376,
     "metadata": {},
     "output_type": "execute_result"
    }
   ],
   "source": [
    "from sklearn import linear_model\n",
    "model_lm = linear_model.LinearRegression()\n",
    "modelPerformance(model_lm)"
   ]
  },
  {
   "cell_type": "markdown",
   "metadata": {},
   "source": [
    "#### Ridge Regression"
   ]
  },
  {
   "cell_type": "code",
   "execution_count": 377,
   "metadata": {
    "collapsed": true
   },
   "outputs": [],
   "source": [
    "alphas = np.linspace(0.05,0.30,100)\n",
    "models = [linear_model.Ridge(alpha) for alpha in alphas]\n",
    "listOfModelPerformance = np.array([np.array([modelPerformance(model),model.alpha]) for model in models])"
   ]
  },
  {
   "cell_type": "code",
   "execution_count": 378,
   "metadata": {
    "collapsed": true
   },
   "outputs": [],
   "source": [
    "perform = dict()\n",
    "for x in listOfModelPerformance:\n",
    "    perform[x[0]] = x[1]"
   ]
  },
  {
   "cell_type": "code",
   "execution_count": 379,
   "metadata": {},
   "outputs": [
    {
     "name": "stdout",
     "output_type": "stream",
     "text": [
      "0.04651177204040826\n"
     ]
    }
   ],
   "source": [
    "lowest = min(perform.keys())\n",
    "print(lowest)\n",
    "alpha_star = perform[min(perform.keys())]\n",
    "model_ridge = linear_model.Ridge(alpha_star)"
   ]
  },
  {
   "cell_type": "markdown",
   "metadata": {},
   "source": [
    "#### Random Forest"
   ]
  },
  {
   "cell_type": "code",
   "execution_count": 380,
   "metadata": {},
   "outputs": [
    {
     "data": {
      "text/plain": [
       "0.044060777724285065"
      ]
     },
     "execution_count": 380,
     "metadata": {},
     "output_type": "execute_result"
    }
   ],
   "source": [
    "from sklearn.ensemble import RandomForestRegressor\n",
    "model_tree = RandomForestRegressor(max_depth=300, n_estimators=500, max_features = 300, oob_score=True, random_state=213)\n",
    "modelPerformance(model_tree,True)"
   ]
  },
  {
   "cell_type": "markdown",
   "metadata": {},
   "source": [
    "#### Lasso Regression"
   ]
  },
  {
   "cell_type": "code",
   "execution_count": 381,
   "metadata": {
    "collapsed": true
   },
   "outputs": [],
   "source": [
    "alphas = np.linspace(10,40,200)\n",
    "models = [linear_model.Lasso(alpha) for alpha in alphas]\n",
    "listOfModelPerformance = np.array([np.array([modelPerformance(model),model.alpha]) for model in models])"
   ]
  },
  {
   "cell_type": "code",
   "execution_count": 382,
   "metadata": {},
   "outputs": [
    {
     "name": "stdout",
     "output_type": "stream",
     "text": [
      "0.033757370216290654\n"
     ]
    }
   ],
   "source": [
    "perform = dict()\n",
    "for x in listOfModelPerformance:\n",
    "    perform[x[0]] = x[1]\n",
    "\n",
    "lowest = min(perform.keys())\n",
    "print(lowest)\n",
    "alpha_star = perform[min(perform.keys())]\n",
    "model_lasso = linear_model.Lasso(alpha_star)\n"
   ]
  },
  {
   "cell_type": "markdown",
   "metadata": {},
   "source": [
    "### 5.3 Taking combinations of models (Stacking)"
   ]
  },
  {
   "cell_type": "code",
   "execution_count": 383,
   "metadata": {},
   "outputs": [],
   "source": [
    "models = [model_tree,model_lasso,model_ridge,model_lm]\n",
    "\n",
    "res = []\n",
    "for i in range(0,len(X_train_set)):\n",
    "    tempRes = []\n",
    "    for model in models:\n",
    "        model.fit(X_train_set[i],y_train_set[i].ravel())\n",
    "        tempRes.append(model.predict(X_test_set[i]))\n",
    "    res.append(tempRes)"
   ]
  },
  {
   "cell_type": "markdown",
   "metadata": {
    "collapsed": true
   },
   "source": [
    "'res' is the complete prediction of all four models considered across all data points in the test data, i.e. the predictions can be arranged in a dataframe"
   ]
  },
  {
   "cell_type": "code",
   "execution_count": 386,
   "metadata": {},
   "outputs": [],
   "source": [
    "m1 = []\n",
    "m2 = []\n",
    "m3 = []\n",
    "m4 = []\n",
    "\n",
    "for i in range(5):\n",
    "    m1.append(res[i][0])\n",
    "    m2.append(res[i][1])\n",
    "    m3.append(res[i][2])\n",
    "    m4.append(res[i][3])\n",
    "    \n",
    "m1 = np.array(m1).ravel()\n",
    "m2 = np.array(m2).ravel()\n",
    "m3 = np.array(m2).ravel()\n",
    "m4 = np.array(m2).ravel()\n",
    "\n",
    "Y = np.array(y_test_set).ravel()\n",
    "\n",
    "model_df = pd.DataFrame(data = {'Tree':m1,'Lasso':m2,'Ridge':m3,'Linear':m4,'RESULT':Y})"
   ]
  },
  {
   "cell_type": "markdown",
   "metadata": {
    "collapsed": true
   },
   "source": [
    "We thus have four simple models and a test result. We seek a linear combination of the four models that produce the test result - this is once again an OLS exercise:"
   ]
  },
  {
   "cell_type": "code",
   "execution_count": 387,
   "metadata": {},
   "outputs": [
    {
     "data": {
      "text/html": [
       "<div>\n",
       "<style scoped>\n",
       "    .dataframe tbody tr th:only-of-type {\n",
       "        vertical-align: middle;\n",
       "    }\n",
       "\n",
       "    .dataframe tbody tr th {\n",
       "        vertical-align: top;\n",
       "    }\n",
       "\n",
       "    .dataframe thead th {\n",
       "        text-align: right;\n",
       "    }\n",
       "</style>\n",
       "<table border=\"1\" class=\"dataframe\">\n",
       "  <thead>\n",
       "    <tr style=\"text-align: right;\">\n",
       "      <th></th>\n",
       "      <th>Lasso</th>\n",
       "      <th>Linear</th>\n",
       "      <th>RESULT</th>\n",
       "      <th>Ridge</th>\n",
       "      <th>Tree</th>\n",
       "    </tr>\n",
       "  </thead>\n",
       "  <tbody>\n",
       "    <tr>\n",
       "      <th>0</th>\n",
       "      <td>11.959420</td>\n",
       "      <td>11.959420</td>\n",
       "      <td>11.794345</td>\n",
       "      <td>11.959420</td>\n",
       "      <td>11.808429</td>\n",
       "    </tr>\n",
       "    <tr>\n",
       "      <th>1</th>\n",
       "      <td>12.047359</td>\n",
       "      <td>12.047359</td>\n",
       "      <td>11.626263</td>\n",
       "      <td>12.047359</td>\n",
       "      <td>11.795879</td>\n",
       "    </tr>\n",
       "    <tr>\n",
       "      <th>2</th>\n",
       "      <td>12.110362</td>\n",
       "      <td>12.110362</td>\n",
       "      <td>12.751303</td>\n",
       "      <td>12.110362</td>\n",
       "      <td>12.752871</td>\n",
       "    </tr>\n",
       "    <tr>\n",
       "      <th>3</th>\n",
       "      <td>12.124082</td>\n",
       "      <td>12.124082</td>\n",
       "      <td>11.373675</td>\n",
       "      <td>12.124082</td>\n",
       "      <td>11.788852</td>\n",
       "    </tr>\n",
       "    <tr>\n",
       "      <th>4</th>\n",
       "      <td>12.013792</td>\n",
       "      <td>12.013792</td>\n",
       "      <td>12.312687</td>\n",
       "      <td>12.013792</td>\n",
       "      <td>12.290193</td>\n",
       "    </tr>\n",
       "  </tbody>\n",
       "</table>\n",
       "</div>"
      ],
      "text/plain": [
       "       Lasso     Linear     RESULT      Ridge       Tree\n",
       "0  11.959420  11.959420  11.794345  11.959420  11.808429\n",
       "1  12.047359  12.047359  11.626263  12.047359  11.795879\n",
       "2  12.110362  12.110362  12.751303  12.110362  12.752871\n",
       "3  12.124082  12.124082  11.373675  12.124082  11.788852\n",
       "4  12.013792  12.013792  12.312687  12.013792  12.290193"
      ]
     },
     "execution_count": 387,
     "metadata": {},
     "output_type": "execute_result"
    }
   ],
   "source": [
    "model_df.head()"
   ]
  },
  {
   "cell_type": "code",
   "execution_count": 388,
   "metadata": {},
   "outputs": [
    {
     "name": "stdout",
     "output_type": "stream",
     "text": [
      "train/test split with 20.0 resampled as test data\n",
      "There are 5 sets\n"
     ]
    }
   ],
   "source": [
    "modelValSets = preprocessing.split(model_df,0.2)"
   ]
  },
  {
   "cell_type": "markdown",
   "metadata": {},
   "source": [
    "We know repeat the exercise of finding the best model for the second level phase."
   ]
  },
  {
   "cell_type": "code",
   "execution_count": 389,
   "metadata": {},
   "outputs": [],
   "source": [
    "#Validation scheme works as follows:\n",
    "\n",
    "#1) Separate into various sets for cross validation, train on each (X_train,y_train), test on (X_test,y_test).\n",
    "FEATURES = np.array(['Tree','Lasso','Ridge','Linear'])\n",
    "TARGET = ['RESULT']\n",
    "\n",
    "X_train_set = [modelValSets[i]['train'][FEATURES].as_matrix() for i in list(modelValSets.keys())]\n",
    "y_train_set = [modelValSets[i]['train'][TARGET].as_matrix() for i in list(modelValSets.keys())]\n",
    "\n",
    "X_test_set = [modelValSets[i]['test'][FEATURES].as_matrix() for i in list(modelValSets.keys())]\n",
    "y_test_set = [modelValSets[i]['test'][TARGET].as_matrix() for i in list(modelValSets.keys())]\n",
    "\n",
    "#2) create a model performance function, which tests of the RMSLE, root mean square log error. \n",
    "#This is taken from ML.measurements.\n",
    "\n",
    "def modelPerformance(model,ravelRequired = False):\n",
    "    metrics = measurements.measurements()\n",
    "    performance = []\n",
    "    for i in range(0,len(X_train_set)):\n",
    "        model.fit(X_train_set[i],y_train_set[i].ravel())\n",
    "        result = model.predict(X_test_set[i])\n",
    "        performance.append(metrics.RMSLE(result,y_test_set[i]))\n",
    "    return np.array(performance).mean()\n"
   ]
  },
  {
   "cell_type": "markdown",
   "metadata": {},
   "source": [
    "#### Basic Linear Regression"
   ]
  },
  {
   "cell_type": "code",
   "execution_count": 390,
   "metadata": {},
   "outputs": [
    {
     "data": {
      "text/plain": [
       "0.045309448544336016"
      ]
     },
     "execution_count": 390,
     "metadata": {},
     "output_type": "execute_result"
    }
   ],
   "source": [
    "from sklearn import linear_model\n",
    "model2_lm = linear_model.LinearRegression()\n",
    "modelPerformance(model2_lm)"
   ]
  },
  {
   "cell_type": "markdown",
   "metadata": {},
   "source": [
    "# 6. Model Summary"
   ]
  },
  {
   "cell_type": "markdown",
   "metadata": {},
   "source": [
    "We have two layers, the first layers contains four models:\n",
    "\n",
    "1. Linear Regression (model_lm)\n",
    "2. Lasso Regression (model_lasso)\n",
    "3. Random Forest (model_tree)\n",
    "4. ridge Regression (model_ridge)\n",
    "\n",
    "The second layers takes the result of these first four models to produce the result, the model is:\n",
    "1. Linear regression (model2_lm)"
   ]
  },
  {
   "cell_type": "code",
   "execution_count": 391,
   "metadata": {},
   "outputs": [],
   "source": [
    "model_lasso.fit(X_train,y)\n",
    "model_tree.fit(X_train,y)\n",
    "model_ridge.fit(X_train,y)\n",
    "model_lm.fit(X_train,y)\n",
    "\n",
    "y_lasso = model_lasso.predict(X_train)\n",
    "y_tree = model_tree.predict(X_train)\n",
    "y_ridge = model_ridge.predict(X_train)\n",
    "y_lm = model_lm.predict(X_train)"
   ]
  },
  {
   "cell_type": "code",
   "execution_count": 392,
   "metadata": {
    "collapsed": true
   },
   "outputs": [],
   "source": [
    "dfX = pd.DataFrame(data = {'tree':y_tree,'lasso':y_lasso,'ridge':y_ridge,'linear':y_lm})"
   ]
  },
  {
   "cell_type": "code",
   "execution_count": 393,
   "metadata": {},
   "outputs": [],
   "source": [
    "model2_lm.fit(dfX,y)\n",
    "train_res = model2_lm.predict(dfX)"
   ]
  },
  {
   "cell_type": "code",
   "execution_count": 394,
   "metadata": {
    "collapsed": true
   },
   "outputs": [],
   "source": [
    "y_lasso = model_lasso.predict(X_test)\n",
    "y_tree = model_tree.predict(X_test)\n",
    "y_ridge = model_ridge.predict(X_test)\n",
    "y_lm = model_lm.predict(X_test)"
   ]
  },
  {
   "cell_type": "code",
   "execution_count": 395,
   "metadata": {},
   "outputs": [],
   "source": [
    "dfXTEST = pd.DataFrame(data = {'tree':y_tree,'lasso':y_lasso,'ridge':y_ridge,'linear':y_lm})"
   ]
  },
  {
   "cell_type": "code",
   "execution_count": 396,
   "metadata": {},
   "outputs": [],
   "source": [
    "result = np.expm1(model2_lm.predict(dfXTEST))"
   ]
  },
  {
   "cell_type": "markdown",
   "metadata": {},
   "source": [
    "# printing result"
   ]
  },
  {
   "cell_type": "code",
   "execution_count": 397,
   "metadata": {
    "collapsed": true
   },
   "outputs": [],
   "source": [
    "df = pd.DataFrame(data  = {'SalePrice':result},index = X_test.index)\n",
    "df.to_csv('result.csv')"
   ]
  },
  {
   "cell_type": "code",
   "execution_count": 398,
   "metadata": {},
   "outputs": [
    {
     "data": {
      "text/html": [
       "<div>\n",
       "<style scoped>\n",
       "    .dataframe tbody tr th:only-of-type {\n",
       "        vertical-align: middle;\n",
       "    }\n",
       "\n",
       "    .dataframe tbody tr th {\n",
       "        vertical-align: top;\n",
       "    }\n",
       "\n",
       "    .dataframe thead th {\n",
       "        text-align: right;\n",
       "    }\n",
       "</style>\n",
       "<table border=\"1\" class=\"dataframe\">\n",
       "  <thead>\n",
       "    <tr style=\"text-align: right;\">\n",
       "      <th></th>\n",
       "      <th>SalePrice</th>\n",
       "    </tr>\n",
       "    <tr>\n",
       "      <th>Id</th>\n",
       "      <th></th>\n",
       "    </tr>\n",
       "  </thead>\n",
       "  <tbody>\n",
       "    <tr>\n",
       "      <th>1461</th>\n",
       "      <td>120556.029685</td>\n",
       "    </tr>\n",
       "    <tr>\n",
       "      <th>1462</th>\n",
       "      <td>159504.530519</td>\n",
       "    </tr>\n",
       "    <tr>\n",
       "      <th>1463</th>\n",
       "      <td>187017.972047</td>\n",
       "    </tr>\n",
       "    <tr>\n",
       "      <th>1464</th>\n",
       "      <td>185895.277603</td>\n",
       "    </tr>\n",
       "    <tr>\n",
       "      <th>1465</th>\n",
       "      <td>191408.238442</td>\n",
       "    </tr>\n",
       "    <tr>\n",
       "      <th>1466</th>\n",
       "      <td>185609.803992</td>\n",
       "    </tr>\n",
       "    <tr>\n",
       "      <th>1467</th>\n",
       "      <td>171839.089070</td>\n",
       "    </tr>\n",
       "    <tr>\n",
       "      <th>1468</th>\n",
       "      <td>177688.622514</td>\n",
       "    </tr>\n",
       "    <tr>\n",
       "      <th>1469</th>\n",
       "      <td>181991.980268</td>\n",
       "    </tr>\n",
       "    <tr>\n",
       "      <th>1470</th>\n",
       "      <td>119044.576989</td>\n",
       "    </tr>\n",
       "    <tr>\n",
       "      <th>1471</th>\n",
       "      <td>195820.475852</td>\n",
       "    </tr>\n",
       "    <tr>\n",
       "      <th>1472</th>\n",
       "      <td>90788.562440</td>\n",
       "    </tr>\n",
       "    <tr>\n",
       "      <th>1473</th>\n",
       "      <td>93781.435728</td>\n",
       "    </tr>\n",
       "    <tr>\n",
       "      <th>1474</th>\n",
       "      <td>152744.526915</td>\n",
       "    </tr>\n",
       "    <tr>\n",
       "      <th>1475</th>\n",
       "      <td>110300.130261</td>\n",
       "    </tr>\n",
       "    <tr>\n",
       "      <th>1476</th>\n",
       "      <td>367921.306255</td>\n",
       "    </tr>\n",
       "    <tr>\n",
       "      <th>1477</th>\n",
       "      <td>247987.949524</td>\n",
       "    </tr>\n",
       "    <tr>\n",
       "      <th>1478</th>\n",
       "      <td>309452.966728</td>\n",
       "    </tr>\n",
       "    <tr>\n",
       "      <th>1479</th>\n",
       "      <td>268135.524254</td>\n",
       "    </tr>\n",
       "    <tr>\n",
       "      <th>1480</th>\n",
       "      <td>494896.722091</td>\n",
       "    </tr>\n",
       "    <tr>\n",
       "      <th>1481</th>\n",
       "      <td>307070.453597</td>\n",
       "    </tr>\n",
       "    <tr>\n",
       "      <th>1482</th>\n",
       "      <td>204911.357883</td>\n",
       "    </tr>\n",
       "    <tr>\n",
       "      <th>1483</th>\n",
       "      <td>187825.115772</td>\n",
       "    </tr>\n",
       "    <tr>\n",
       "      <th>1484</th>\n",
       "      <td>165365.832770</td>\n",
       "    </tr>\n",
       "    <tr>\n",
       "      <th>1485</th>\n",
       "      <td>166236.410655</td>\n",
       "    </tr>\n",
       "    <tr>\n",
       "      <th>1486</th>\n",
       "      <td>201338.230612</td>\n",
       "    </tr>\n",
       "    <tr>\n",
       "      <th>1487</th>\n",
       "      <td>324028.201777</td>\n",
       "    </tr>\n",
       "    <tr>\n",
       "      <th>1488</th>\n",
       "      <td>218639.243350</td>\n",
       "    </tr>\n",
       "    <tr>\n",
       "      <th>1489</th>\n",
       "      <td>209393.858112</td>\n",
       "    </tr>\n",
       "    <tr>\n",
       "      <th>1490</th>\n",
       "      <td>224614.392482</td>\n",
       "    </tr>\n",
       "    <tr>\n",
       "      <th>...</th>\n",
       "      <td>...</td>\n",
       "    </tr>\n",
       "    <tr>\n",
       "      <th>2890</th>\n",
       "      <td>86805.294533</td>\n",
       "    </tr>\n",
       "    <tr>\n",
       "      <th>2891</th>\n",
       "      <td>133698.976560</td>\n",
       "    </tr>\n",
       "    <tr>\n",
       "      <th>2892</th>\n",
       "      <td>53345.550735</td>\n",
       "    </tr>\n",
       "    <tr>\n",
       "      <th>2893</th>\n",
       "      <td>79192.697920</td>\n",
       "    </tr>\n",
       "    <tr>\n",
       "      <th>2894</th>\n",
       "      <td>57961.886117</td>\n",
       "    </tr>\n",
       "    <tr>\n",
       "      <th>2895</th>\n",
       "      <td>322568.433870</td>\n",
       "    </tr>\n",
       "    <tr>\n",
       "      <th>2896</th>\n",
       "      <td>303961.170756</td>\n",
       "    </tr>\n",
       "    <tr>\n",
       "      <th>2897</th>\n",
       "      <td>195169.189727</td>\n",
       "    </tr>\n",
       "    <tr>\n",
       "      <th>2898</th>\n",
       "      <td>138754.367860</td>\n",
       "    </tr>\n",
       "    <tr>\n",
       "      <th>2899</th>\n",
       "      <td>226174.406967</td>\n",
       "    </tr>\n",
       "    <tr>\n",
       "      <th>2900</th>\n",
       "      <td>153144.550130</td>\n",
       "    </tr>\n",
       "    <tr>\n",
       "      <th>2901</th>\n",
       "      <td>204464.077613</td>\n",
       "    </tr>\n",
       "    <tr>\n",
       "      <th>2902</th>\n",
       "      <td>193686.821626</td>\n",
       "    </tr>\n",
       "    <tr>\n",
       "      <th>2903</th>\n",
       "      <td>375233.706926</td>\n",
       "    </tr>\n",
       "    <tr>\n",
       "      <th>2904</th>\n",
       "      <td>338351.160266</td>\n",
       "    </tr>\n",
       "    <tr>\n",
       "      <th>2905</th>\n",
       "      <td>115667.565973</td>\n",
       "    </tr>\n",
       "    <tr>\n",
       "      <th>2906</th>\n",
       "      <td>201163.067500</td>\n",
       "    </tr>\n",
       "    <tr>\n",
       "      <th>2907</th>\n",
       "      <td>115437.661265</td>\n",
       "    </tr>\n",
       "    <tr>\n",
       "      <th>2908</th>\n",
       "      <td>127334.331180</td>\n",
       "    </tr>\n",
       "    <tr>\n",
       "      <th>2909</th>\n",
       "      <td>140465.544242</td>\n",
       "    </tr>\n",
       "    <tr>\n",
       "      <th>2910</th>\n",
       "      <td>83878.835334</td>\n",
       "    </tr>\n",
       "    <tr>\n",
       "      <th>2911</th>\n",
       "      <td>85782.995634</td>\n",
       "    </tr>\n",
       "    <tr>\n",
       "      <th>2912</th>\n",
       "      <td>155942.626391</td>\n",
       "    </tr>\n",
       "    <tr>\n",
       "      <th>2913</th>\n",
       "      <td>84686.921284</td>\n",
       "    </tr>\n",
       "    <tr>\n",
       "      <th>2914</th>\n",
       "      <td>84773.957214</td>\n",
       "    </tr>\n",
       "    <tr>\n",
       "      <th>2915</th>\n",
       "      <td>82975.860828</td>\n",
       "    </tr>\n",
       "    <tr>\n",
       "      <th>2916</th>\n",
       "      <td>84703.940549</td>\n",
       "    </tr>\n",
       "    <tr>\n",
       "      <th>2917</th>\n",
       "      <td>149581.089974</td>\n",
       "    </tr>\n",
       "    <tr>\n",
       "      <th>2918</th>\n",
       "      <td>115728.302887</td>\n",
       "    </tr>\n",
       "    <tr>\n",
       "      <th>2919</th>\n",
       "      <td>230766.393616</td>\n",
       "    </tr>\n",
       "  </tbody>\n",
       "</table>\n",
       "<p>1459 rows × 1 columns</p>\n",
       "</div>"
      ],
      "text/plain": [
       "          SalePrice\n",
       "Id                 \n",
       "1461  120556.029685\n",
       "1462  159504.530519\n",
       "1463  187017.972047\n",
       "1464  185895.277603\n",
       "1465  191408.238442\n",
       "1466  185609.803992\n",
       "1467  171839.089070\n",
       "1468  177688.622514\n",
       "1469  181991.980268\n",
       "1470  119044.576989\n",
       "1471  195820.475852\n",
       "1472   90788.562440\n",
       "1473   93781.435728\n",
       "1474  152744.526915\n",
       "1475  110300.130261\n",
       "1476  367921.306255\n",
       "1477  247987.949524\n",
       "1478  309452.966728\n",
       "1479  268135.524254\n",
       "1480  494896.722091\n",
       "1481  307070.453597\n",
       "1482  204911.357883\n",
       "1483  187825.115772\n",
       "1484  165365.832770\n",
       "1485  166236.410655\n",
       "1486  201338.230612\n",
       "1487  324028.201777\n",
       "1488  218639.243350\n",
       "1489  209393.858112\n",
       "1490  224614.392482\n",
       "...             ...\n",
       "2890   86805.294533\n",
       "2891  133698.976560\n",
       "2892   53345.550735\n",
       "2893   79192.697920\n",
       "2894   57961.886117\n",
       "2895  322568.433870\n",
       "2896  303961.170756\n",
       "2897  195169.189727\n",
       "2898  138754.367860\n",
       "2899  226174.406967\n",
       "2900  153144.550130\n",
       "2901  204464.077613\n",
       "2902  193686.821626\n",
       "2903  375233.706926\n",
       "2904  338351.160266\n",
       "2905  115667.565973\n",
       "2906  201163.067500\n",
       "2907  115437.661265\n",
       "2908  127334.331180\n",
       "2909  140465.544242\n",
       "2910   83878.835334\n",
       "2911   85782.995634\n",
       "2912  155942.626391\n",
       "2913   84686.921284\n",
       "2914   84773.957214\n",
       "2915   82975.860828\n",
       "2916   84703.940549\n",
       "2917  149581.089974\n",
       "2918  115728.302887\n",
       "2919  230766.393616\n",
       "\n",
       "[1459 rows x 1 columns]"
      ]
     },
     "execution_count": 398,
     "metadata": {},
     "output_type": "execute_result"
    }
   ],
   "source": [
    "df"
   ]
  },
  {
   "cell_type": "code",
   "execution_count": null,
   "metadata": {
    "collapsed": true
   },
   "outputs": [],
   "source": []
  }
 ],
 "metadata": {
  "kernelspec": {
   "display_name": "Python [default]",
   "language": "python",
   "name": "python3"
  },
  "language_info": {
   "codemirror_mode": {
    "name": "ipython",
    "version": 3
   },
   "file_extension": ".py",
   "mimetype": "text/x-python",
   "name": "python",
   "nbconvert_exporter": "python",
   "pygments_lexer": "ipython3",
   "version": "3.6.5"
  }
 },
 "nbformat": 4,
 "nbformat_minor": 2
}
