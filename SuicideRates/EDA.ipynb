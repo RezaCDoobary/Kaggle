{
 "cells": [
  {
   "cell_type": "code",
   "execution_count": 1,
   "metadata": {},
   "outputs": [],
   "source": [
    "import pandas as pd \n",
    "import numpy as np\n",
    "import matplotlib.pyplot as plt\n",
    "%matplotlib inline\n",
    "\n",
    "import warnings\n",
    "warnings.filterwarnings('ignore')\n",
    "\n",
    "from tqdm import tqdm_notebook"
   ]
  },
  {
   "cell_type": "code",
   "execution_count": 2,
   "metadata": {},
   "outputs": [],
   "source": [
    "source = pd.read_csv('master.csv')"
   ]
  },
  {
   "cell_type": "markdown",
   "metadata": {},
   "source": [
    "# Preprocessing:\n",
    "\n",
    "## null analysis"
   ]
  },
  {
   "cell_type": "code",
   "execution_count": 3,
   "metadata": {},
   "outputs": [
    {
     "name": "stdout",
     "output_type": "stream",
     "text": [
      "HDI for year 0.699352983465133\n"
     ]
    }
   ],
   "source": [
    "data = source.copy()\n",
    "nulls = data.isnull().sum()\n",
    "\n",
    "for k,v in nulls.items():\n",
    "    if v!=0:\n",
    "        print(k,v/len(data))"
   ]
  },
  {
   "cell_type": "markdown",
   "metadata": {},
   "source": [
    "So : 70% of the dataset for the human development index is null. This is too much to impute - let's drop."
   ]
  },
  {
   "cell_type": "code",
   "execution_count": 4,
   "metadata": {},
   "outputs": [],
   "source": [
    "del data['HDI for year']"
   ]
  },
  {
   "cell_type": "markdown",
   "metadata": {},
   "source": [
    "## Over complete basis (features present which can be written as other features)."
   ]
  },
  {
   "cell_type": "code",
   "execution_count": 5,
   "metadata": {},
   "outputs": [
    {
     "data": {
      "text/html": [
       "<div>\n",
       "<style scoped>\n",
       "    .dataframe tbody tr th:only-of-type {\n",
       "        vertical-align: middle;\n",
       "    }\n",
       "\n",
       "    .dataframe tbody tr th {\n",
       "        vertical-align: top;\n",
       "    }\n",
       "\n",
       "    .dataframe thead th {\n",
       "        text-align: right;\n",
       "    }\n",
       "</style>\n",
       "<table border=\"1\" class=\"dataframe\">\n",
       "  <thead>\n",
       "    <tr style=\"text-align: right;\">\n",
       "      <th></th>\n",
       "      <th>country</th>\n",
       "      <th>year</th>\n",
       "      <th>sex</th>\n",
       "      <th>age</th>\n",
       "      <th>suicides_no</th>\n",
       "      <th>population</th>\n",
       "      <th>suicides/100k pop</th>\n",
       "      <th>country-year</th>\n",
       "      <th>gdp_for_year ($)</th>\n",
       "      <th>gdp_per_capita ($)</th>\n",
       "      <th>generation</th>\n",
       "    </tr>\n",
       "  </thead>\n",
       "  <tbody>\n",
       "    <tr>\n",
       "      <th>0</th>\n",
       "      <td>Albania</td>\n",
       "      <td>1987</td>\n",
       "      <td>male</td>\n",
       "      <td>15-24 years</td>\n",
       "      <td>21</td>\n",
       "      <td>312900</td>\n",
       "      <td>6.71</td>\n",
       "      <td>Albania1987</td>\n",
       "      <td>2,156,624,900</td>\n",
       "      <td>796</td>\n",
       "      <td>Generation X</td>\n",
       "    </tr>\n",
       "    <tr>\n",
       "      <th>1</th>\n",
       "      <td>Albania</td>\n",
       "      <td>1987</td>\n",
       "      <td>male</td>\n",
       "      <td>35-54 years</td>\n",
       "      <td>16</td>\n",
       "      <td>308000</td>\n",
       "      <td>5.19</td>\n",
       "      <td>Albania1987</td>\n",
       "      <td>2,156,624,900</td>\n",
       "      <td>796</td>\n",
       "      <td>Silent</td>\n",
       "    </tr>\n",
       "    <tr>\n",
       "      <th>2</th>\n",
       "      <td>Albania</td>\n",
       "      <td>1987</td>\n",
       "      <td>female</td>\n",
       "      <td>15-24 years</td>\n",
       "      <td>14</td>\n",
       "      <td>289700</td>\n",
       "      <td>4.83</td>\n",
       "      <td>Albania1987</td>\n",
       "      <td>2,156,624,900</td>\n",
       "      <td>796</td>\n",
       "      <td>Generation X</td>\n",
       "    </tr>\n",
       "    <tr>\n",
       "      <th>3</th>\n",
       "      <td>Albania</td>\n",
       "      <td>1987</td>\n",
       "      <td>male</td>\n",
       "      <td>75+ years</td>\n",
       "      <td>1</td>\n",
       "      <td>21800</td>\n",
       "      <td>4.59</td>\n",
       "      <td>Albania1987</td>\n",
       "      <td>2,156,624,900</td>\n",
       "      <td>796</td>\n",
       "      <td>G.I. Generation</td>\n",
       "    </tr>\n",
       "    <tr>\n",
       "      <th>4</th>\n",
       "      <td>Albania</td>\n",
       "      <td>1987</td>\n",
       "      <td>male</td>\n",
       "      <td>25-34 years</td>\n",
       "      <td>9</td>\n",
       "      <td>274300</td>\n",
       "      <td>3.28</td>\n",
       "      <td>Albania1987</td>\n",
       "      <td>2,156,624,900</td>\n",
       "      <td>796</td>\n",
       "      <td>Boomers</td>\n",
       "    </tr>\n",
       "  </tbody>\n",
       "</table>\n",
       "</div>"
      ],
      "text/plain": [
       "   country  year     sex          age  suicides_no  population  \\\n",
       "0  Albania  1987    male  15-24 years           21      312900   \n",
       "1  Albania  1987    male  35-54 years           16      308000   \n",
       "2  Albania  1987  female  15-24 years           14      289700   \n",
       "3  Albania  1987    male    75+ years            1       21800   \n",
       "4  Albania  1987    male  25-34 years            9      274300   \n",
       "\n",
       "   suicides/100k pop country-year  gdp_for_year ($)   gdp_per_capita ($)  \\\n",
       "0               6.71  Albania1987      2,156,624,900                 796   \n",
       "1               5.19  Albania1987      2,156,624,900                 796   \n",
       "2               4.83  Albania1987      2,156,624,900                 796   \n",
       "3               4.59  Albania1987      2,156,624,900                 796   \n",
       "4               3.28  Albania1987      2,156,624,900                 796   \n",
       "\n",
       "        generation  \n",
       "0     Generation X  \n",
       "1           Silent  \n",
       "2     Generation X  \n",
       "3  G.I. Generation  \n",
       "4          Boomers  "
      ]
     },
     "execution_count": 5,
     "metadata": {},
     "output_type": "execute_result"
    }
   ],
   "source": [
    "data.head()"
   ]
  },
  {
   "cell_type": "markdown",
   "metadata": {},
   "source": [
    "The columns suicides/100k pop and country-year are producing an overcomplete basis of features since:\n",
    "\n",
    "* suicides/100k pop can be written as suicides_no and populations\n",
    "* country-year can be writtten in terms of the columns country and year\n",
    "* It is tempting to think that genenration and age have a strong association, however this is not the case since \n",
    "this makes refenrence to a fixed timescale in the past. I.e. a 25 year old baby boomer groes to become a 70 year old baby boomer.\n",
    "\n",
    "Thus, we can delete those two columns:"
   ]
  },
  {
   "cell_type": "code",
   "execution_count": 6,
   "metadata": {},
   "outputs": [],
   "source": [
    "del data['suicides/100k pop']\n",
    "del data['country-year']"
   ]
  },
  {
   "cell_type": "markdown",
   "metadata": {},
   "source": [
    "## type analysis (making data ordinal, one -hot etc. where required)"
   ]
  },
  {
   "cell_type": "markdown",
   "metadata": {},
   "source": [
    "For most of our analysis and modelling it will be useful to make the data type ordinal, categorical or numerical where nessecary. So we do that, going column by column."
   ]
  },
  {
   "cell_type": "code",
   "execution_count": 7,
   "metadata": {},
   "outputs": [],
   "source": [
    "columns = data.columns"
   ]
  },
  {
   "cell_type": "code",
   "execution_count": 8,
   "metadata": {},
   "outputs": [
    {
     "data": {
      "text/html": [
       "<div>\n",
       "<style scoped>\n",
       "    .dataframe tbody tr th:only-of-type {\n",
       "        vertical-align: middle;\n",
       "    }\n",
       "\n",
       "    .dataframe tbody tr th {\n",
       "        vertical-align: top;\n",
       "    }\n",
       "\n",
       "    .dataframe thead th {\n",
       "        text-align: right;\n",
       "    }\n",
       "</style>\n",
       "<table border=\"1\" class=\"dataframe\">\n",
       "  <thead>\n",
       "    <tr style=\"text-align: right;\">\n",
       "      <th></th>\n",
       "      <th>types</th>\n",
       "    </tr>\n",
       "  </thead>\n",
       "  <tbody>\n",
       "    <tr>\n",
       "      <th>country</th>\n",
       "      <td>&lt;class 'str'&gt;</td>\n",
       "    </tr>\n",
       "    <tr>\n",
       "      <th>year</th>\n",
       "      <td>&lt;class 'int'&gt;</td>\n",
       "    </tr>\n",
       "    <tr>\n",
       "      <th>sex</th>\n",
       "      <td>&lt;class 'str'&gt;</td>\n",
       "    </tr>\n",
       "    <tr>\n",
       "      <th>age</th>\n",
       "      <td>&lt;class 'str'&gt;</td>\n",
       "    </tr>\n",
       "    <tr>\n",
       "      <th>suicides_no</th>\n",
       "      <td>&lt;class 'int'&gt;</td>\n",
       "    </tr>\n",
       "    <tr>\n",
       "      <th>population</th>\n",
       "      <td>&lt;class 'int'&gt;</td>\n",
       "    </tr>\n",
       "    <tr>\n",
       "      <th>gdp_for_year ($)</th>\n",
       "      <td>&lt;class 'str'&gt;</td>\n",
       "    </tr>\n",
       "    <tr>\n",
       "      <th>gdp_per_capita ($)</th>\n",
       "      <td>&lt;class 'int'&gt;</td>\n",
       "    </tr>\n",
       "    <tr>\n",
       "      <th>generation</th>\n",
       "      <td>&lt;class 'str'&gt;</td>\n",
       "    </tr>\n",
       "  </tbody>\n",
       "</table>\n",
       "</div>"
      ],
      "text/plain": [
       "                            types\n",
       "country             <class 'str'>\n",
       "year                <class 'int'>\n",
       "sex                 <class 'str'>\n",
       "age                 <class 'str'>\n",
       "suicides_no         <class 'int'>\n",
       "population          <class 'int'>\n",
       " gdp_for_year ($)   <class 'str'>\n",
       "gdp_per_capita ($)  <class 'int'>\n",
       "generation          <class 'str'>"
      ]
     },
     "execution_count": 8,
     "metadata": {},
     "output_type": "execute_result"
    }
   ],
   "source": [
    "type_df = pd.DataFrame(index = columns)\n",
    "val = []\n",
    "for c in columns:\n",
    "    val.append(data[c].map(lambda x: type(x)).values.all())\n",
    "type_df['types'] = val\n",
    "type_df"
   ]
  },
  {
   "cell_type": "markdown",
   "metadata": {},
   "source": [
    "First issue: the type for gdp_for_year ($) should not be a string..."
   ]
  },
  {
   "cell_type": "code",
   "execution_count": 9,
   "metadata": {},
   "outputs": [
    {
     "data": {
      "text/plain": [
       "0    2,156,624,900\n",
       "1    2,156,624,900\n",
       "2    2,156,624,900\n",
       "3    2,156,624,900\n",
       "4    2,156,624,900\n",
       "Name:  gdp_for_year ($) , dtype: object"
      ]
     },
     "execution_count": 9,
     "metadata": {},
     "output_type": "execute_result"
    }
   ],
   "source": [
    "data[' gdp_for_year ($) '].head()"
   ]
  },
  {
   "cell_type": "code",
   "execution_count": 10,
   "metadata": {},
   "outputs": [],
   "source": [
    "#ok so it has columns in it - \n",
    "def long_number_to_int(longnumber):\n",
    "    try:\n",
    "        return int(longnumber)\n",
    "    except ValueError:\n",
    "        return int(''.join(longnumber.split(',')))\n",
    "    \n",
    "data['gdp_for_year($)'] = data[' gdp_for_year ($) '].map(lambda x: long_number_to_int(x))\n",
    "del data[' gdp_for_year ($) ']"
   ]
  },
  {
   "cell_type": "markdown",
   "metadata": {},
   "source": [
    "Age and generation should both be ordinal numerical values."
   ]
  },
  {
   "cell_type": "code",
   "execution_count": 11,
   "metadata": {},
   "outputs": [
    {
     "data": {
      "text/plain": [
       "array(['15-24 years', '35-54 years', '75+ years', '25-34 years',\n",
       "       '55-74 years', '5-14 years'], dtype=object)"
      ]
     },
     "execution_count": 11,
     "metadata": {},
     "output_type": "execute_result"
    }
   ],
   "source": [
    "age_groups = data['age'].unique()\n",
    "age_groups"
   ]
  },
  {
   "cell_type": "code",
   "execution_count": 12,
   "metadata": {},
   "outputs": [],
   "source": [
    "mapper = {'5-14 years':0, '15-24 years':1,'25-34 years':2,'35-54 years':3,'55-74 years':4,'75+ years':5}\n",
    "data['age'] = data['age'].map(lambda x: mapper[x])"
   ]
  },
  {
   "cell_type": "code",
   "execution_count": 13,
   "metadata": {},
   "outputs": [
    {
     "data": {
      "text/plain": [
       "array(['Generation X', 'Silent', 'G.I. Generation', 'Boomers',\n",
       "       'Millenials', 'Generation Z'], dtype=object)"
      ]
     },
     "execution_count": 13,
     "metadata": {},
     "output_type": "execute_result"
    }
   ],
   "source": [
    "generation_groups = data['generation'].unique()\n",
    "generation_groups"
   ]
  },
  {
   "cell_type": "code",
   "execution_count": 14,
   "metadata": {},
   "outputs": [],
   "source": [
    "#going youngest to eldest\n",
    "mapper  = {'Generation Z':0,'Millenials':1,'Generation X':2,'Boomers':3,'Silent':4,'G.I. Generation':5}\n",
    "data['generation'] = data['generation'].map(lambda x: mapper[x])"
   ]
  },
  {
   "cell_type": "code",
   "execution_count": 15,
   "metadata": {},
   "outputs": [],
   "source": [
    "data.to_csv('output1.csv')"
   ]
  },
  {
   "cell_type": "markdown",
   "metadata": {},
   "source": [
    "Now let's make country, and set ordinal."
   ]
  },
  {
   "cell_type": "code",
   "execution_count": 16,
   "metadata": {},
   "outputs": [],
   "source": [
    "#one hot encoding should be applied to:\n",
    "    # country\n",
    "    # sex\n",
    "    # generation\n",
    "    \n",
    "from sklearn.preprocessing import OneHotEncoder\n",
    "\n",
    "def transform_to_one_hot(dataframe, column_name):\n",
    "    enc = OneHotEncoder()\n",
    "    enc.fit(dataframe[column_name].values.reshape(-1,1))\n",
    "    transformed = enc.transform(dataframe[column_name].values.reshape(-1,1)).toarray()\n",
    "    #the result to 2 columns - we only need one:\n",
    "    if len(enc.categories_[0]) == 2:\n",
    "        data[enc.categories_[0][0]] = transformed[:,0]\n",
    "    else:\n",
    "        for i in range(0,len(transformed[0])):\n",
    "            dataframe[enc.categories_[0][i]] = transformed[:,i]\n",
    "            \n",
    "    return dataframe\n",
    "\n",
    "for col in ['sex', 'country']:\n",
    "    transform_to_one_hot(data, col)"
   ]
  },
  {
   "cell_type": "code",
   "execution_count": 17,
   "metadata": {},
   "outputs": [],
   "source": [
    "data.to_csv('output2.csv')"
   ]
  },
  {
   "cell_type": "markdown",
   "metadata": {},
   "source": [
    "## Basic EDA questions..."
   ]
  },
  {
   "cell_type": "code",
   "execution_count": 18,
   "metadata": {},
   "outputs": [],
   "source": [
    "data = pd.read_csv('output1.csv',index_col = 0)\n",
    "age_mapper = {'5-14 years':0, '15-24 years':1,'25-34 years':2,'35-54 years':3,'55-74 years':4,'75+ years':5}\n",
    "gen_mapper  = {'Generation Z':0,'Millenials':1,'Generation X':2,'Boomers':3,'Silent':4,'G.I. Generation':5}\n",
    "inv_age_mapper = {v:k for k,v in age_mapper.items()}\n",
    "inv_gen_mapper = {v:k for k,v in gen_mapper.items()}"
   ]
  },
  {
   "cell_type": "code",
   "execution_count": 19,
   "metadata": {},
   "outputs": [],
   "source": [
    "# question 1: how has the total number of suicides changes over time amoung different age groups and genders\n",
    "# per country"
   ]
  },
  {
   "cell_type": "code",
   "execution_count": 20,
   "metadata": {},
   "outputs": [],
   "source": [
    "all_years = np.sort(data['year'].unique())"
   ]
  },
  {
   "cell_type": "code",
   "execution_count": 21,
   "metadata": {},
   "outputs": [],
   "source": [
    "def to_timeseries(country, sex):\n",
    "    tmp = data[(data['country'] == country) & (data['sex'] == sex)].groupby(['age','year']).first()\n",
    "    res = dict(tmp['suicides_no'])\n",
    "    \n",
    "    result = {}\n",
    "    for k,v in res.items():\n",
    "        if k[0] not in result.keys():\n",
    "            result[k[0]] = [[k[1]],[v]]\n",
    "        else:\n",
    "            temp = result[k[0]]\n",
    "            temp[0].append(k[1])\n",
    "            temp[1].append(v)\n",
    "            result[k[0]] = temp\n",
    "            \n",
    "    return result"
   ]
  },
  {
   "cell_type": "code",
   "execution_count": 22,
   "metadata": {},
   "outputs": [
    {
     "data": {
      "text/plain": [
       "array(['Albania', 'Antigua and Barbuda', 'Argentina', 'Armenia', 'Aruba',\n",
       "       'Australia', 'Austria', 'Azerbaijan', 'Bahamas', 'Bahrain',\n",
       "       'Barbados', 'Belarus', 'Belgium', 'Belize',\n",
       "       'Bosnia and Herzegovina', 'Brazil', 'Bulgaria', 'Cabo Verde',\n",
       "       'Canada', 'Chile', 'Colombia', 'Costa Rica', 'Croatia', 'Cuba',\n",
       "       'Cyprus', 'Czech Republic', 'Denmark', 'Dominica', 'Ecuador',\n",
       "       'El Salvador', 'Estonia', 'Fiji', 'Finland', 'France', 'Georgia',\n",
       "       'Germany', 'Greece', 'Grenada', 'Guatemala', 'Guyana', 'Hungary',\n",
       "       'Iceland', 'Ireland', 'Israel', 'Italy', 'Jamaica', 'Japan',\n",
       "       'Kazakhstan', 'Kiribati', 'Kuwait', 'Kyrgyzstan', 'Latvia',\n",
       "       'Lithuania', 'Luxembourg', 'Macau', 'Maldives', 'Malta',\n",
       "       'Mauritius', 'Mexico', 'Mongolia', 'Montenegro', 'Netherlands',\n",
       "       'New Zealand', 'Nicaragua', 'Norway', 'Oman', 'Panama', 'Paraguay',\n",
       "       'Philippines', 'Poland', 'Portugal', 'Puerto Rico', 'Qatar',\n",
       "       'Republic of Korea', 'Romania', 'Russian Federation',\n",
       "       'Saint Kitts and Nevis', 'Saint Lucia',\n",
       "       'Saint Vincent and Grenadines', 'San Marino', 'Serbia',\n",
       "       'Seychelles', 'Singapore', 'Slovakia', 'Slovenia', 'South Africa',\n",
       "       'Spain', 'Sri Lanka', 'Suriname', 'Sweden', 'Switzerland',\n",
       "       'Thailand', 'Trinidad and Tobago', 'Turkey', 'Turkmenistan',\n",
       "       'Ukraine', 'United Arab Emirates', 'United Kingdom',\n",
       "       'United States', 'Uruguay', 'Uzbekistan'], dtype=object)"
      ]
     },
     "execution_count": 22,
     "metadata": {},
     "output_type": "execute_result"
    }
   ],
   "source": [
    "countries = data['country'].unique()\n",
    "countries"
   ]
  },
  {
   "cell_type": "code",
   "execution_count": 23,
   "metadata": {},
   "outputs": [],
   "source": [
    "# question 1a : more precisely - we can ask specific questions like how has the suicide rate changed over time for female \n",
    "# Austrians for diffrent age rates"
   ]
  },
  {
   "cell_type": "code",
   "execution_count": 24,
   "metadata": {},
   "outputs": [
    {
     "data": {
      "image/png": "[encoded data removed]",
      "text/plain": [
       "<Figure size 1152x576 with 2 Axes>"
      ]
     },
     "metadata": {
      "needs_background": "light"
     },
     "output_type": "display_data"
    }
   ],
   "source": [
    "fig, axs = plt.subplots(2, figsize = (16,8))\n",
    "result = to_timeseries('Austria','female')\n",
    "for age_group in result.keys():\n",
    "    x,y = result[age_group]\n",
    "    axs[0].plot(x,y, label = inv_age_mapper[age_group])\n",
    "    axs[0].legend()\n",
    "    \n",
    "axs[0].set_xlabel('Years')\n",
    "axs[0].set_ylabel('Suicide_no')\n",
    "axs[0].set_title('# suicides every year per age group for FEMALES')\n",
    "axs[0].grid()\n",
    "\n",
    "\n",
    "result = to_timeseries('Germany','male')\n",
    "for age_group in result.keys():\n",
    "    x,y = result[age_group]\n",
    "    axs[1].plot(x,y, label = inv_age_mapper[age_group])\n",
    "    axs[1].legend()\n",
    "    \n",
    "axs[1].set_xlabel('Years')\n",
    "axs[1].set_ylabel('Suicide_no')\n",
    "axs[1].set_title('# suicides every year per age group MALES')\n",
    "axs[1].grid()\n",
    "plt.show()"
   ]
  },
  {
   "cell_type": "code",
   "execution_count": 25,
   "metadata": {},
   "outputs": [
    {
     "data": {
      "application/vnd.jupyter.widget-view+json": {
       "model_id": "72918756ed224603b8ce20d1efcec213",
       "version_major": 2,
       "version_minor": 0
      },
      "text/plain": [
       "HBox(children=(FloatProgress(value=0.0, max=101.0), HTML(value='')))"
      ]
     },
     "metadata": {},
     "output_type": "display_data"
    },
    {
     "name": "stdout",
     "output_type": "stream",
     "text": [
      "\n"
     ]
    }
   ],
   "source": [
    "#Can we see a trend? We can appeal to a very simply linear regression to ask this.\n",
    "from sklearn import linear_model\n",
    "\n",
    "\n",
    "MSEs = []\n",
    "t_coef = []\n",
    "t2_coef = []\n",
    "t3_coef = []\n",
    "intercept = []\n",
    "country_list = []\n",
    "sex_list = []\n",
    "age_group_list = []\n",
    "\n",
    "\n",
    "for country in tqdm_notebook(countries):\n",
    "    for sex in ['male','female']:\n",
    "        for age_group in [0,1,2,3,4,5]:\n",
    "            \n",
    "\n",
    "            result = to_timeseries(country,sex)\n",
    "\n",
    "            model = linear_model.LinearRegression()\n",
    "            \n",
    "            try:\n",
    "                X = np.array(result[age_group][0]).reshape(-1,1)\n",
    "            except:\n",
    "                continue\n",
    "            \n",
    "            t0 = X[0]\n",
    "            t = [0]\n",
    "            for i in range(0,len(X)-1):\n",
    "                t.append((X[i+1] - t0).item())\n",
    "            X = np.array(t)\n",
    "            X = np.concatenate([[X],[X**2],[X**3]],0).T #adding a quadratic term\n",
    "            y = np.array(result[age_group][1]).reshape(-1,1)\n",
    "            model.fit(X,y)\n",
    "            \n",
    "            \n",
    "            coef = model.coef_[0]\n",
    "            t_coef.append(coef[0])\n",
    "            t2_coef.append(coef[1])\n",
    "            t3_coef.append(coef[2])\n",
    "            \n",
    "            intercept.append(model.intercept_[0])\n",
    "            diff = model.predict(X) - y\n",
    "            MSE = np.mean(diff**2)\n",
    "            \n",
    "            MSEs.append(MSE)\n",
    "              \n",
    "            country_list.append(country)\n",
    "            sex_list.append(sex)\n",
    "            age_group_list.append(age_group)\n"
   ]
  },
  {
   "cell_type": "code",
   "execution_count": 26,
   "metadata": {},
   "outputs": [],
   "source": [
    "trend_df = pd.DataFrame({'Country':country_list,'Sex':sex_list,'Age group':age_group_list,'Linear term':t_coef,\\\n",
    "                        'Quadratic term':t2_coef,'Cubic term':t3_coef,'Intercept':intercept,'MSE':MSEs})"
   ]
  },
  {
   "cell_type": "code",
   "execution_count": 27,
   "metadata": {},
   "outputs": [
    {
     "data": {
      "text/plain": [
       "count    1.210000e+03\n",
       "mean     3.377685e+03\n",
       "std      5.094705e+04\n",
       "min      0.000000e+00\n",
       "25%      8.695881e-01\n",
       "50%      1.610352e+01\n",
       "75%      1.362289e+02\n",
       "max      1.629017e+06\n",
       "Name: MSE, dtype: float64"
      ]
     },
     "execution_count": 27,
     "metadata": {},
     "output_type": "execute_result"
    }
   ],
   "source": [
    "trend_df['MSE'].describe()"
   ]
  },
  {
   "cell_type": "code",
   "execution_count": 28,
   "metadata": {},
   "outputs": [],
   "source": [
    "# Let's drop very bad MSE outliers for which the model made no sense - we keep upto th 75% percentile\n",
    "trend_df_75 = trend_df[trend_df['MSE'] < 140]"
   ]
  },
  {
   "cell_type": "code",
   "execution_count": 29,
   "metadata": {},
   "outputs": [],
   "source": [
    "# the 75% percentile is of the order 2 - and there is a huge discrepency between the maximum and the upper range \n",
    "# thus I reckon we can view the maximum as an outlier in this case.\n",
    "\n",
    "# Let's try to cluster in the regression coefficient space:\n",
    "\n",
    "coefficients = trend_df_75[['Linear term','Quadratic term']]\n"
   ]
  },
  {
   "cell_type": "code",
   "execution_count": 30,
   "metadata": {},
   "outputs": [
    {
     "data": {
      "text/plain": [
       "KMeans(algorithm='auto', copy_x=True, init='k-means++', max_iter=300,\n",
       "       n_clusters=3, n_init=10, n_jobs=None, precompute_distances='auto',\n",
       "       random_state=None, tol=0.0001, verbose=0)"
      ]
     },
     "execution_count": 30,
     "metadata": {},
     "output_type": "execute_result"
    }
   ],
   "source": [
    "from sklearn.cluster import KMeans\n",
    "\n",
    "kmeans_model = KMeans(n_clusters=3)\n",
    "kmeans_model.fit(coefficients.values)"
   ]
  },
  {
   "cell_type": "code",
   "execution_count": 31,
   "metadata": {},
   "outputs": [],
   "source": [
    "clusters = kmeans_model.cluster_centers_.T"
   ]
  },
  {
   "cell_type": "code",
   "execution_count": 32,
   "metadata": {},
   "outputs": [
    {
     "data": {
      "image/png": "[encoded data removed]",
      "text/plain": [
       "<Figure size 1440x720 with 1 Axes>"
      ]
     },
     "metadata": {
      "needs_background": "light"
     },
     "output_type": "display_data"
    }
   ],
   "source": [
    "plt.figure(figsize=(20,10))\n",
    "plt.scatter(coefficients['Linear term'].values, coefficients['Quadratic term'].values)\n",
    "plt.scatter(clusters[0],clusters[1], color = 'red', marker = 'x')\n",
    "plt.xlabel('Linear term')\n",
    "plt.ylabel('Quadratic term')\n",
    "\n",
    "plt.grid()"
   ]
  },
  {
   "cell_type": "code",
   "execution_count": 33,
   "metadata": {},
   "outputs": [],
   "source": [
    "# So we see three distinct area - giving us two bits on information - where trends increased, decreased \n",
    "# and stayed rouhgly the same. We also see some outlier points with a large (positive and negative) quadratic \n",
    "# terms, however we did not need the cluster to see this. This gives us an idea of the spread of the data.\n",
    "\n",
    "# we can drill down further into the linear term...\n"
   ]
  },
  {
   "cell_type": "code",
   "execution_count": 34,
   "metadata": {},
   "outputs": [],
   "source": [
    "trend_df_75['Kmeans_cluster'] = trend_df_75[['Linear term','Quadratic term']].apply(lambda x : kmeans_model.predict([[x[0],x[1]]])[0],1)"
   ]
  },
  {
   "cell_type": "code",
   "execution_count": 35,
   "metadata": {},
   "outputs": [],
   "source": [
    "from seaborn import heatmap"
   ]
  },
  {
   "cell_type": "code",
   "execution_count": 36,
   "metadata": {},
   "outputs": [
    {
     "name": "stdout",
     "output_type": "stream",
     "text": [
      "[-13.71634932   1.84825283]\n"
     ]
    },
    {
     "data": {
      "text/plain": [
       "<matplotlib.axes._subplots.AxesSubplot at 0x1a1f38a438>"
      ]
     },
     "execution_count": 36,
     "metadata": {},
     "output_type": "execute_result"
    },
    {
     "data": {
      "image/png": "[encoded data removed]",
      "text/plain": [
       "<Figure size 432x288 with 2 Axes>"
      ]
     },
     "metadata": {
      "needs_background": "light"
     },
     "output_type": "display_data"
    }
   ],
   "source": [
    "# cluster 1 : the decreasing trend\n",
    "print(kmeans_model.cluster_centers_[1])\n",
    "dec_trend = trend_df_75[trend_df_75['Kmeans_cluster'] == 1]\n",
    "res = dec_trend.groupby(['Age group', 'Sex']).size()\n",
    "res = res.unstack(level=-1).fillna(0)/len(res)\n",
    "heatmap(res)"
   ]
  },
  {
   "cell_type": "code",
   "execution_count": 37,
   "metadata": {},
   "outputs": [
    {
     "name": "stdout",
     "output_type": "stream",
     "text": [
      "[-0.3056131   0.04213307]\n"
     ]
    },
    {
     "data": {
      "text/plain": [
       "<matplotlib.axes._subplots.AxesSubplot at 0x1a1f4a1c88>"
      ]
     },
     "execution_count": 37,
     "metadata": {},
     "output_type": "execute_result"
    },
    {
     "data": {
      "image/png": "[encoded data removed]",
      "text/plain": [
       "<Figure size 432x288 with 2 Axes>"
      ]
     },
     "metadata": {
      "needs_background": "light"
     },
     "output_type": "display_data"
    }
   ],
   "source": [
    "# cluster 0 : almost no change\n",
    "print(kmeans_model.cluster_centers_[0])\n",
    "dec_trend = trend_df_75[trend_df_75['Kmeans_cluster'] == 0]\n",
    "res = dec_trend.groupby(['Age group', 'Sex']).size()\n",
    "res = res.unstack(level=-1).fillna(0)/len(res)\n",
    "heatmap(res)"
   ]
  },
  {
   "cell_type": "code",
   "execution_count": 38,
   "metadata": {},
   "outputs": [
    {
     "name": "stdout",
     "output_type": "stream",
     "text": [
      "[ 6.11534834 -0.88076797]\n"
     ]
    },
    {
     "data": {
      "text/plain": [
       "<matplotlib.axes._subplots.AxesSubplot at 0x1a1f53a400>"
      ]
     },
     "execution_count": 38,
     "metadata": {},
     "output_type": "execute_result"
    },
    {
     "data": {
      "image/png": "[encoded data removed]",
      "text/plain": [
       "<Figure size 432x288 with 2 Axes>"
      ]
     },
     "metadata": {
      "needs_background": "light"
     },
     "output_type": "display_data"
    }
   ],
   "source": [
    "# cluster 2 : increasing trend\n",
    "print(kmeans_model.cluster_centers_[2])\n",
    "dec_trend = trend_df_75[trend_df_75['Kmeans_cluster'] == 2]\n",
    "res = dec_trend.groupby(['Age group', 'Sex']).size()\n",
    "res = res.unstack(level=-1).fillna(0)/len(res)\n",
    "heatmap(res)"
   ]
  },
  {
   "cell_type": "code",
   "execution_count": 39,
   "metadata": {},
   "outputs": [
    {
     "data": {
      "text/plain": [
       "<matplotlib.axes._subplots.AxesSubplot at 0x1a1f5e0198>"
      ]
     },
     "execution_count": 39,
     "metadata": {},
     "output_type": "execute_result"
    },
    {
     "data": {
      "image/png": "[encoded data removed]",
      "text/plain": [
       "<Figure size 432x288 with 2 Axes>"
      ]
     },
     "metadata": {
      "needs_background": "light"
     },
     "output_type": "display_data"
    }
   ],
   "source": [
    "# What about the quadratically increasing and decreasing group?\n",
    "\n",
    "# +ve increasing\n",
    "idx = coefficients['Quadratic term'][coefficients['Quadratic term'] > 0.4].index\n",
    "res = trend_df_75.loc[idx].groupby(['Age group', 'Sex']).size()\n",
    "res = res.unstack(level=-1).fillna(0)/len(res)\n",
    "heatmap(res)"
   ]
  },
  {
   "cell_type": "code",
   "execution_count": 40,
   "metadata": {},
   "outputs": [
    {
     "data": {
      "text/plain": [
       "<matplotlib.axes._subplots.AxesSubplot at 0x1a1f63d7f0>"
      ]
     },
     "execution_count": 40,
     "metadata": {},
     "output_type": "execute_result"
    },
    {
     "data": {
      "image/png": "[encoded data removed]",
      "text/plain": [
       "<Figure size 432x288 with 2 Axes>"
      ]
     },
     "metadata": {
      "needs_background": "light"
     },
     "output_type": "display_data"
    }
   ],
   "source": [
    "# -ve increasing\n",
    "idx = coefficients['Quadratic term'][coefficients['Quadratic term'] < -0.4].index\n",
    "res = trend_df_75.loc[idx].groupby(['Age group', 'Sex']).size()\n",
    "res = res.unstack(level=-1).fillna(0)/len(res)\n",
    "heatmap(res)"
   ]
  },
  {
   "cell_type": "code",
   "execution_count": 41,
   "metadata": {},
   "outputs": [],
   "source": [
    "from sklearn.feature_selection import chi2\n",
    "\n",
    "temp = data[['sex','age']]\n",
    "value = (temp['sex'] + '_' +temp['age'].astype(str)).values\n",
    "temp.loc[:, ('sex_age')] = value\n",
    "\n",
    "temp.loc[:,('sex')] = np.array(temp['sex'] == 'male',int)\n",
    "\n",
    "code_mapper = {temp['sex_age'].unique()[i]:i for i in range(len(temp['sex_age'].unique()))}\n",
    "temp.loc[:,('sex_age')] = temp['sex_age'].map(lambda x: code_mapper[x])\n",
    "\n",
    "X = temp.values\n",
    "\n",
    "y = data['suicides_no'].values"
   ]
  },
  {
   "cell_type": "code",
   "execution_count": 42,
   "metadata": {},
   "outputs": [],
   "source": [
    "chi2_vals, p_values = chi2(X,y)"
   ]
  },
  {
   "cell_type": "code",
   "execution_count": 43,
   "metadata": {},
   "outputs": [
    {
     "data": {
      "text/plain": [
       "Index(['sex', 'age', 'sex_age'], dtype='object')"
      ]
     },
     "execution_count": 43,
     "metadata": {},
     "output_type": "execute_result"
    }
   ],
   "source": [
    "temp.columns"
   ]
  },
  {
   "cell_type": "code",
   "execution_count": 44,
   "metadata": {},
   "outputs": [
    {
     "data": {
      "text/plain": [
       "array([1.00000000e+00, 1.02116412e-22, 0.00000000e+00])"
      ]
     },
     "execution_count": 44,
     "metadata": {},
     "output_type": "execute_result"
    }
   ],
   "source": [
    "p_values"
   ]
  },
  {
   "cell_type": "code",
   "execution_count": 45,
   "metadata": {},
   "outputs": [],
   "source": [
    "# From this we conclude that it cannot be rules out that the suicide amount and age are not associated to \n",
    "#each other."
   ]
  },
  {
   "cell_type": "code",
   "execution_count": 46,
   "metadata": {},
   "outputs": [
    {
     "data": {
      "text/plain": [
       "<matplotlib.axes._subplots.AxesSubplot at 0x1a1f967a90>"
      ]
     },
     "execution_count": 46,
     "metadata": {},
     "output_type": "execute_result"
    },
    {
     "data": {
      "image/png": "[encoded data removed]",
      "text/plain": [
       "<Figure size 432x288 with 2 Axes>"
      ]
     },
     "metadata": {
      "needs_background": "light"
     },
     "output_type": "display_data"
    }
   ],
   "source": [
    "# are there any groups/countries that have absolutely no suicides reported?\n",
    "no_suicides = data[data['suicides_no'] == 0]\n",
    "\n",
    "\n",
    "# is there some grouping at all?\n",
    "\n",
    "res = no_suicides.groupby(['age', 'sex']).size()\n",
    "res = res.unstack(level=-1).fillna(0)\n",
    "heatmap(res)"
   ]
  },
  {
   "cell_type": "code",
   "execution_count": 47,
   "metadata": {},
   "outputs": [
    {
     "data": {
      "text/plain": [
       "['Mongolia',\n",
       " 'United States',\n",
       " 'Mexico',\n",
       " 'Brazil',\n",
       " 'Poland',\n",
       " 'Argentina',\n",
       " 'Sri Lanka',\n",
       " 'Ukraine',\n",
       " 'Ecuador',\n",
       " 'Russian Federation',\n",
       " 'Germany',\n",
       " 'France',\n",
       " 'Canada',\n",
       " 'Turkey',\n",
       " 'Uzbekistan',\n",
       " 'Japan',\n",
       " 'Kazakhstan',\n",
       " 'Republic of Korea',\n",
       " 'Belarus']"
      ]
     },
     "execution_count": 47,
     "metadata": {},
     "output_type": "execute_result"
    }
   ],
   "source": [
    "# All countries aside from this list had no suicides for some age group\n",
    "always_had_suicides = list(set(data['country'].unique()) - set(no_suicides['country'].unique()))\n",
    "always_had_suicides"
   ]
  },
  {
   "cell_type": "code",
   "execution_count": 48,
   "metadata": {},
   "outputs": [
    {
     "data": {
      "application/vnd.jupyter.widget-view+json": {
       "model_id": "74c9a12a4b7542709477f6e22d94c6c7",
       "version_major": 2,
       "version_minor": 0
      },
      "text/plain": [
       "HBox(children=(FloatProgress(value=0.0, max=101.0), HTML(value='')))"
      ]
     },
     "metadata": {},
     "output_type": "display_data"
    },
    {
     "name": "stdout",
     "output_type": "stream",
     "text": [
      "\n"
     ]
    }
   ],
   "source": [
    "# in which countries do the suicide rates between males and females correlate most strongly and which the weakest \n",
    "# - in which age group is this the case?\n",
    "\n",
    "def correlation_between_sex(age, result_male, result_female, common_years_threshold = 15):\n",
    "    age_groups = list(result_male.keys())\n",
    "\n",
    "    years1, values1 = result_male[age]\n",
    "    years2, values2 = result_female[age]\n",
    "\n",
    "    common_years = []\n",
    "    years1_idx = []\n",
    "    years2_idx = []\n",
    "    for i,year1 in enumerate(years1):\n",
    "        for j,year2 in enumerate(years2):\n",
    "            if year1 in all_years and year2 in all_years and year1 == year2:\n",
    "                common_years.append(year1)\n",
    "                years1_idx.append(i)\n",
    "                years2_idx.append(j)\n",
    "                \n",
    "    if len(common_years) < common_years_threshold:\n",
    "        raise ValueError('not enough number of common year data')\n",
    "\n",
    "    val1 = np.array(values1)[years1_idx]\n",
    "    val2 = np.array(values2)[years2_idx]\n",
    "    return np.corrcoef(val1,val2)[0][1]\n",
    "\n",
    "result = {}\n",
    "for country in tqdm_notebook(countries):\n",
    "    result[country] = {}\n",
    "    resultm = to_timeseries(country, 'male')\n",
    "    resultf = to_timeseries(country, 'female')\n",
    "    \n",
    "    for age in resultm.keys(): \n",
    "        try:\n",
    "            corr_res = correlation_between_sex(age,resultm,resultf)\n",
    "        except ValueError:\n",
    "            if country in result.keys():\n",
    "                result.pop(country)\n",
    "            break\n",
    "        if np.isnan(corr_res): #this happens if a country has reported zero suicides\n",
    "            continue\n",
    "        result[country][age] = corr_res"
   ]
  },
  {
   "cell_type": "code",
   "execution_count": 49,
   "metadata": {
    "scrolled": true
   },
   "outputs": [],
   "source": [
    "maximum = -np.inf\n",
    "minimum = +np.inf\n",
    "max_string = None #finds positive correlations\n",
    "min_string = None #finds negative correlations\n",
    "\n",
    "minimum_absolute = +np.inf\n",
    "abs_string = None #finds genuine low correlations\n",
    "\n",
    "\n",
    "for k,v in result.items():\n",
    "    age = max(v, key=v.get)\n",
    "    country = k\n",
    "    value = result[k][age]\n",
    "    \n",
    "    if value > maximum:\n",
    "        max_string = country + '_' + inv_age_mapper[age]\n",
    "        maximum = value\n",
    "    \n",
    "    if value < minimum:\n",
    "        min_string = country + '_' + inv_age_mapper[age]\n",
    "        minimum = value\n",
    "        \n",
    "    if abs(value) < minimum_absolute:\n",
    "        abs_string = country + '_' + inv_age_mapper[age]\n",
    "        minimum_absolute = abs(value)"
   ]
  },
  {
   "cell_type": "code",
   "execution_count": 50,
   "metadata": {},
   "outputs": [
    {
     "name": "stdout",
     "output_type": "stream",
     "text": [
      "The maximum positive correlation amoung males and female suicide rates occurs for age group 55-74 years for country Republic of Korea with correlation 0.99287\n"
     ]
    }
   ],
   "source": [
    "c_, a_ = max_string.split('_')\n",
    "age = age_mapper[a_]\n",
    "\n",
    "print('The maximum positive correlation amoung males and female suicide rates occurs for age group {0} \\\n",
    "for country {1} with correlation {2:.5f}'.format(a_, c_,result[c_][age]))\n"
   ]
  },
  {
   "cell_type": "code",
   "execution_count": 51,
   "metadata": {},
   "outputs": [
    {
     "name": "stdout",
     "output_type": "stream",
     "text": [
      "The maximum negative correlation amoung males and female suicide rates occurs for age group 55-74 years for country Antigua and Barbuda with correlation -0.06934\n"
     ]
    }
   ],
   "source": [
    "c_, a_ = min_string.split('_')\n",
    "age = age_mapper[a_]\n",
    "\n",
    "print('The maximum negative correlation amoung males and female suicide rates occurs for age group {0} \\\n",
    "for country {1} with correlation {2:.5f}'.format(a_, c_,result[c_][age]))"
   ]
  },
  {
   "cell_type": "code",
   "execution_count": 52,
   "metadata": {},
   "outputs": [
    {
     "name": "stdout",
     "output_type": "stream",
     "text": [
      "The absolute lowest correlation amoung males and female suicide rates occurs for age group 55-74 years for country Antigua and Barbuda with correlation -0.06934\n"
     ]
    }
   ],
   "source": [
    "c_, a_ = abs_string.split('_')\n",
    "age = age_mapper[a_]\n",
    "\n",
    "print('The absolute lowest correlation amoung males and female suicide rates occurs for age group {0} \\\n",
    "for country {1} with correlation {2:.5f}'.format(a_, c_,result[c_][age]))"
   ]
  },
  {
   "cell_type": "code",
   "execution_count": 53,
   "metadata": {},
   "outputs": [],
   "source": [
    "# highest and lowest correlation between ages per country"
   ]
  },
  {
   "cell_type": "code",
   "execution_count": 55,
   "metadata": {},
   "outputs": [
    {
     "data": {
      "application/vnd.jupyter.widget-view+json": {
       "model_id": "0cd11d552a2a4e6f940e3f0937da9962",
       "version_major": 2,
       "version_minor": 0
      },
      "text/plain": [
       "HBox(children=(FloatProgress(value=0.0, max=101.0), HTML(value='')))"
      ]
     },
     "metadata": {},
     "output_type": "display_data"
    },
    {
     "name": "stdout",
     "output_type": "stream",
     "text": [
      "\n"
     ]
    }
   ],
   "source": [
    "ages = [0,1,2,3,4,5]\n",
    "country_names = []\n",
    "key_pair_max = []\n",
    "key_values_max = []\n",
    "key_pair_min = []\n",
    "key_values_min= []\n",
    "for c in tqdm_notebook(countries):\n",
    "    tmp = data[(data['country'] == c)]\n",
    "    tmp = tmp.groupby(['year']).first()\n",
    "    temp_df = pd.DataFrame(index = tmp.index)\n",
    "    for age in ages:\n",
    "        tmp = data[(data['country'] == c) & (data['age'] == age)]\n",
    "        tmp = tmp.groupby(['year']).first()\n",
    "        temp_df[age] = tmp['suicides_no']\n",
    "    \n",
    "    try:\n",
    "        res = dict(temp_df.corr().unstack().sort_values(ascending = False).drop_duplicates())\n",
    "\n",
    "        for k in res.copy():\n",
    "            if k[0] == k[1]:\n",
    "                res.pop(k)\n",
    "    \n",
    "        key_max = max(res, key=res.get)\n",
    "        key_min = min(res, key=res.get)\n",
    "        value_max = res[key_max]\n",
    "        value_min = res[key_min]\n",
    "\n",
    "        country_names.append(c)\n",
    "        key_pair_max.append(key_max)\n",
    "        key_values_max.append(value_max)\n",
    "        key_pair_min.append(key_min)\n",
    "        key_values_min.append(value_min)\n",
    "    except:\n",
    "        continue\n",
    "        "
   ]
  },
  {
   "cell_type": "code",
   "execution_count": 56,
   "metadata": {},
   "outputs": [],
   "source": [
    "age_corr_df = pd.DataFrame({'country':country_names,'age_pairs_max':key_pair_max,'age_corr_values_max':key_values_max,\\\n",
    "             'age_pairs_min':key_pair_min,'age_corr_values_min':key_values_min}).set_index('country')"
   ]
  },
  {
   "cell_type": "code",
   "execution_count": 57,
   "metadata": {},
   "outputs": [
    {
     "data": {
      "text/plain": [
       "age_pairs_max            (4, 3)\n",
       "age_corr_values_max    0.989472\n",
       "age_pairs_min            (5, 0)\n",
       "age_corr_values_min    0.877221\n",
       "Name: Mexico, dtype: object"
      ]
     },
     "execution_count": 57,
     "metadata": {},
     "output_type": "execute_result"
    }
   ],
   "source": [
    "country_row = pd.DataFrame(age_corr_df['age_corr_values_max']).idxmax()['age_corr_values_max']\n",
    "age_corr_df.loc[country_row]"
   ]
  },
  {
   "cell_type": "code",
   "execution_count": 58,
   "metadata": {},
   "outputs": [
    {
     "data": {
      "text/plain": [
       "age_pairs_max            (5, 2)\n",
       "age_corr_values_max    0.917663\n",
       "age_pairs_min            (5, 4)\n",
       "age_corr_values_min          -1\n",
       "Name: Oman, dtype: object"
      ]
     },
     "execution_count": 58,
     "metadata": {},
     "output_type": "execute_result"
    }
   ],
   "source": [
    "country_row = pd.DataFrame(age_corr_df['age_corr_values_min']).idxmin()['age_corr_values_min']\n",
    "age_corr_df.loc[country_row]"
   ]
  },
  {
   "cell_type": "code",
   "execution_count": 59,
   "metadata": {},
   "outputs": [
    {
     "data": {
      "text/plain": [
       "country               Russian Federation\n",
       "year                                2000\n",
       "sex                                 male\n",
       "age                                    0\n",
       "suicides_no                          404\n",
       "population                       9986252\n",
       "gdp_per_capita ($)                  1879\n",
       "generation                             1\n",
       "gdp_for_year($)             259708496267\n",
       "Name: 21078, dtype: object"
      ]
     },
     "execution_count": 59,
     "metadata": {},
     "output_type": "execute_result"
    }
   ],
   "source": [
    "# which country has the youngest highest suicide rate?\n",
    "\n",
    "temp_df = data[(data['age'] == 0) & (data['suicides_no'] > 0)]\n",
    "idx = temp_df['suicides_no'].idxmax()\n",
    "temp_df.loc[idx]"
   ]
  },
  {
   "cell_type": "code",
   "execution_count": 60,
   "metadata": {},
   "outputs": [
    {
     "name": "stdout",
     "output_type": "stream",
     "text": [
      "gdp_per_capita ($) vs. country : no obvious relation\n",
      "gdp_for_year ($) vs. country : no obvious relation\n"
     ]
    }
   ],
   "source": [
    "# Econonic issues - can we cluster?\n",
    "\n",
    "# data question - are the gdp values constant amoung age groups and sexes for each country?\n",
    "\n",
    "if len(data['gdp_per_capita ($)'].unique()) == len(data['country'].unique()):\n",
    "    print('gpd_per_capita same number of unique values as country')\n",
    "else:\n",
    "    print('gdp_per_capita ($) vs. country : no obvious relation')\n",
    "\n",
    "if len(data['gdp_for_year($)'].unique()) == len(data['country'].unique()):\n",
    "    print('gdp_for_year same number of unique values as country')\n",
    "else:\n",
    "    print('gdp_for_year ($) vs. country : no obvious relation')"
   ]
  },
  {
   "cell_type": "code",
   "execution_count": 61,
   "metadata": {},
   "outputs": [],
   "source": [
    "# so, let us look at gender, age group time series of both sucide rates and gdps \n",
    "# and see what the correlation matrices look like"
   ]
  },
  {
   "cell_type": "code",
   "execution_count": 62,
   "metadata": {},
   "outputs": [
    {
     "data": {
      "application/vnd.jupyter.widget-view+json": {
       "model_id": "ee82d93dc1a94aac858a12943cf35575",
       "version_major": 2,
       "version_minor": 0
      },
      "text/plain": [
       "HBox(children=(FloatProgress(value=0.0, max=101.0), HTML(value='')))"
      ]
     },
     "metadata": {},
     "output_type": "display_data"
    },
    {
     "name": "stdout",
     "output_type": "stream",
     "text": [
      "\n"
     ]
    }
   ],
   "source": [
    "c,s,a = 'Albania','male',4\n",
    "\n",
    "country_label = []\n",
    "sex_label = []\n",
    "age_group_label = []\n",
    "suicide_capita_corr = []\n",
    "suicide_gdp_year_corr = []\n",
    "n_data_points = []\n",
    "\n",
    "for c in tqdm_notebook(countries):\n",
    "    for a in [0,1,2,3,4,5]:\n",
    "        for s in ['male','female']:\n",
    "            try:\n",
    "\n",
    "                tmp = data[(data['country'] == c) & (data['sex'] == s) & (data['age'] == a)].groupby(['year']).first()\n",
    "                n_data_points.append(len(tmp))\n",
    "                \n",
    "                corr_df = tmp[['suicides_no','gdp_per_capita ($)','gdp_for_year($)']].corr()\n",
    "                result = dict(corr_df['suicides_no'])\n",
    "                \n",
    "                \n",
    "         \n",
    "\n",
    "                country_label.append(c)\n",
    "                sex_label.append(s)\n",
    "                age_group_label.append(a)\n",
    "\n",
    "                suicide_capita_corr.append(result['gdp_per_capita ($)'])\n",
    "                suicide_gdp_year_corr.append(result['gdp_for_year($)'])\n",
    "                \n",
    "            except:\n",
    "                continue\n",
    "\n",
    "temp_df = pd.DataFrame({'Country':country_label, 'Sex':sex_label,'Age':age_group_label,\\\n",
    "                        'suicide_gdp_capita_corr':suicide_capita_corr,\\\n",
    "                        'suicide_gdp_year_corr':suicide_gdp_year_corr, 'n_data_points':n_data_points})"
   ]
  },
  {
   "cell_type": "code",
   "execution_count": 63,
   "metadata": {},
   "outputs": [
    {
     "data": {
      "text/html": [
       "<div>\n",
       "<style scoped>\n",
       "    .dataframe tbody tr th:only-of-type {\n",
       "        vertical-align: middle;\n",
       "    }\n",
       "\n",
       "    .dataframe tbody tr th {\n",
       "        vertical-align: top;\n",
       "    }\n",
       "\n",
       "    .dataframe thead th {\n",
       "        text-align: right;\n",
       "    }\n",
       "</style>\n",
       "<table border=\"1\" class=\"dataframe\">\n",
       "  <thead>\n",
       "    <tr style=\"text-align: right;\">\n",
       "      <th></th>\n",
       "      <th>Country</th>\n",
       "      <th>Sex</th>\n",
       "      <th>Age</th>\n",
       "      <th>suicide_gdp_capita_corr</th>\n",
       "      <th>suicide_gdp_year_corr</th>\n",
       "      <th>n_data_points</th>\n",
       "    </tr>\n",
       "  </thead>\n",
       "  <tbody>\n",
       "    <tr>\n",
       "      <th>0</th>\n",
       "      <td>Albania</td>\n",
       "      <td>male</td>\n",
       "      <td>0</td>\n",
       "      <td>0.137995</td>\n",
       "      <td>0.142640</td>\n",
       "      <td>22</td>\n",
       "    </tr>\n",
       "    <tr>\n",
       "      <th>1</th>\n",
       "      <td>Albania</td>\n",
       "      <td>female</td>\n",
       "      <td>0</td>\n",
       "      <td>-0.082816</td>\n",
       "      <td>-0.073315</td>\n",
       "      <td>22</td>\n",
       "    </tr>\n",
       "    <tr>\n",
       "      <th>2</th>\n",
       "      <td>Albania</td>\n",
       "      <td>male</td>\n",
       "      <td>1</td>\n",
       "      <td>-0.456012</td>\n",
       "      <td>-0.445258</td>\n",
       "      <td>22</td>\n",
       "    </tr>\n",
       "    <tr>\n",
       "      <th>3</th>\n",
       "      <td>Albania</td>\n",
       "      <td>female</td>\n",
       "      <td>1</td>\n",
       "      <td>-0.215636</td>\n",
       "      <td>-0.200096</td>\n",
       "      <td>22</td>\n",
       "    </tr>\n",
       "    <tr>\n",
       "      <th>4</th>\n",
       "      <td>Albania</td>\n",
       "      <td>male</td>\n",
       "      <td>2</td>\n",
       "      <td>-0.287190</td>\n",
       "      <td>-0.277046</td>\n",
       "      <td>22</td>\n",
       "    </tr>\n",
       "  </tbody>\n",
       "</table>\n",
       "</div>"
      ],
      "text/plain": [
       "   Country     Sex  Age  suicide_gdp_capita_corr  suicide_gdp_year_corr  \\\n",
       "0  Albania    male    0                 0.137995               0.142640   \n",
       "1  Albania  female    0                -0.082816              -0.073315   \n",
       "2  Albania    male    1                -0.456012              -0.445258   \n",
       "3  Albania  female    1                -0.215636              -0.200096   \n",
       "4  Albania    male    2                -0.287190              -0.277046   \n",
       "\n",
       "   n_data_points  \n",
       "0             22  \n",
       "1             22  \n",
       "2             22  \n",
       "3             22  \n",
       "4             22  "
      ]
     },
     "execution_count": 63,
     "metadata": {},
     "output_type": "execute_result"
    }
   ],
   "source": [
    "temp_df.head()"
   ]
  },
  {
   "cell_type": "code",
   "execution_count": 64,
   "metadata": {},
   "outputs": [
    {
     "data": {
      "text/plain": [
       "Country                    Bosnia and Herzegovina\n",
       "Sex                                          male\n",
       "Age                                             0\n",
       "suicide_gdp_capita_corr                         1\n",
       "suicide_gdp_year_corr                          -1\n",
       "n_data_points                                   2\n",
       "Name: 168, dtype: object"
      ]
     },
     "execution_count": 64,
     "metadata": {},
     "output_type": "execute_result"
    }
   ],
   "source": [
    "idx = temp_df['suicide_gdp_capita_corr'].idxmax()\n",
    "temp_df.loc[idx]"
   ]
  },
  {
   "cell_type": "code",
   "execution_count": 65,
   "metadata": {},
   "outputs": [
    {
     "data": {
      "text/plain": [
       "Country                    United States\n",
       "Sex                               female\n",
       "Age                                    3\n",
       "suicide_gdp_capita_corr         0.982835\n",
       "suicide_gdp_year_corr           0.988487\n",
       "n_data_points                         31\n",
       "Name: 1183, dtype: object"
      ]
     },
     "execution_count": 65,
     "metadata": {},
     "output_type": "execute_result"
    }
   ],
   "source": [
    "#this comes from the lack data..let's put a lower bound on the number of data points\n",
    "idx = temp_df[temp_df['n_data_points']>20]['suicide_gdp_capita_corr'].idxmax()\n",
    "temp_df.loc[idx]"
   ]
  },
  {
   "cell_type": "code",
   "execution_count": 66,
   "metadata": {},
   "outputs": [
    {
     "data": {
      "text/html": [
       "<div>\n",
       "<style scoped>\n",
       "    .dataframe tbody tr th:only-of-type {\n",
       "        vertical-align: middle;\n",
       "    }\n",
       "\n",
       "    .dataframe tbody tr th {\n",
       "        vertical-align: top;\n",
       "    }\n",
       "\n",
       "    .dataframe thead th {\n",
       "        text-align: right;\n",
       "    }\n",
       "</style>\n",
       "<table border=\"1\" class=\"dataframe\">\n",
       "  <thead>\n",
       "    <tr style=\"text-align: right;\">\n",
       "      <th></th>\n",
       "      <th>Country</th>\n",
       "      <th>Sex</th>\n",
       "      <th>Age</th>\n",
       "      <th>suicide_gdp_capita_corr</th>\n",
       "      <th>suicide_gdp_year_corr</th>\n",
       "      <th>n_data_points</th>\n",
       "    </tr>\n",
       "  </thead>\n",
       "  <tbody>\n",
       "    <tr>\n",
       "      <th>838</th>\n",
       "      <td>Poland</td>\n",
       "      <td>male</td>\n",
       "      <td>5</td>\n",
       "      <td>0.960888</td>\n",
       "      <td>0.960733</td>\n",
       "      <td>24</td>\n",
       "    </tr>\n",
       "    <tr>\n",
       "      <th>1182</th>\n",
       "      <td>United States</td>\n",
       "      <td>male</td>\n",
       "      <td>3</td>\n",
       "      <td>0.980532</td>\n",
       "      <td>0.973014</td>\n",
       "      <td>31</td>\n",
       "    </tr>\n",
       "    <tr>\n",
       "      <th>1183</th>\n",
       "      <td>United States</td>\n",
       "      <td>female</td>\n",
       "      <td>3</td>\n",
       "      <td>0.982835</td>\n",
       "      <td>0.988487</td>\n",
       "      <td>31</td>\n",
       "    </tr>\n",
       "  </tbody>\n",
       "</table>\n",
       "</div>"
      ],
      "text/plain": [
       "            Country     Sex  Age  suicide_gdp_capita_corr  \\\n",
       "838          Poland    male    5                 0.960888   \n",
       "1182  United States    male    3                 0.980532   \n",
       "1183  United States  female    3                 0.982835   \n",
       "\n",
       "      suicide_gdp_year_corr  n_data_points  \n",
       "838                0.960733             24  \n",
       "1182               0.973014             31  \n",
       "1183               0.988487             31  "
      ]
     },
     "execution_count": 66,
     "metadata": {},
     "output_type": "execute_result"
    }
   ],
   "source": [
    "# is this a tie? how many different demogrpahics high a positive correlation of suicide with the gdp\n",
    "\n",
    "temp2 = temp_df[temp_df['n_data_points']>20]\n",
    "temp2[temp2['suicide_gdp_capita_corr']  > 0.95]"
   ]
  },
  {
   "cell_type": "code",
   "execution_count": 67,
   "metadata": {},
   "outputs": [
    {
     "data": {
      "text/plain": [
       "Country                    Lithuania\n",
       "Sex                             male\n",
       "Age                                4\n",
       "suicide_gdp_capita_corr    -0.944062\n",
       "suicide_gdp_year_corr      -0.950279\n",
       "n_data_points                     22\n",
       "Name: 632, dtype: object"
      ]
     },
     "execution_count": 67,
     "metadata": {},
     "output_type": "execute_result"
    }
   ],
   "source": [
    "# what about negative correlation\n",
    "\n",
    "#this comes from the lack data..let's put a lower bound on the number of data points\n",
    "idx = temp_df[temp_df['n_data_points']>20]['suicide_gdp_capita_corr'].idxmin()\n",
    "temp_df.loc[idx]"
   ]
  },
  {
   "cell_type": "code",
   "execution_count": 68,
   "metadata": {},
   "outputs": [
    {
     "data": {
      "text/html": [
       "<div>\n",
       "<style scoped>\n",
       "    .dataframe tbody tr th:only-of-type {\n",
       "        vertical-align: middle;\n",
       "    }\n",
       "\n",
       "    .dataframe tbody tr th {\n",
       "        vertical-align: top;\n",
       "    }\n",
       "\n",
       "    .dataframe thead th {\n",
       "        text-align: right;\n",
       "    }\n",
       "</style>\n",
       "<table border=\"1\" class=\"dataframe\">\n",
       "  <thead>\n",
       "    <tr style=\"text-align: right;\">\n",
       "      <th></th>\n",
       "      <th>Country</th>\n",
       "      <th>Sex</th>\n",
       "      <th>Age</th>\n",
       "      <th>suicide_gdp_capita_corr</th>\n",
       "      <th>suicide_gdp_year_corr</th>\n",
       "      <th>n_data_points</th>\n",
       "    </tr>\n",
       "  </thead>\n",
       "  <tbody>\n",
       "    <tr>\n",
       "      <th>401</th>\n",
       "      <td>France</td>\n",
       "      <td>female</td>\n",
       "      <td>2</td>\n",
       "      <td>-0.915750</td>\n",
       "      <td>-0.925342</td>\n",
       "      <td>30</td>\n",
       "    </tr>\n",
       "    <tr>\n",
       "      <th>482</th>\n",
       "      <td>Hungary</td>\n",
       "      <td>male</td>\n",
       "      <td>1</td>\n",
       "      <td>-0.910478</td>\n",
       "      <td>-0.908059</td>\n",
       "      <td>26</td>\n",
       "    </tr>\n",
       "    <tr>\n",
       "      <th>621</th>\n",
       "      <td>Latvia</td>\n",
       "      <td>female</td>\n",
       "      <td>4</td>\n",
       "      <td>-0.913773</td>\n",
       "      <td>-0.907071</td>\n",
       "      <td>21</td>\n",
       "    </tr>\n",
       "    <tr>\n",
       "      <th>630</th>\n",
       "      <td>Lithuania</td>\n",
       "      <td>male</td>\n",
       "      <td>3</td>\n",
       "      <td>-0.939565</td>\n",
       "      <td>-0.935572</td>\n",
       "      <td>22</td>\n",
       "    </tr>\n",
       "    <tr>\n",
       "      <th>632</th>\n",
       "      <td>Lithuania</td>\n",
       "      <td>male</td>\n",
       "      <td>4</td>\n",
       "      <td>-0.944062</td>\n",
       "      <td>-0.950279</td>\n",
       "      <td>22</td>\n",
       "    </tr>\n",
       "    <tr>\n",
       "      <th>900</th>\n",
       "      <td>Russian Federation</td>\n",
       "      <td>male</td>\n",
       "      <td>0</td>\n",
       "      <td>-0.921782</td>\n",
       "      <td>-0.922616</td>\n",
       "      <td>27</td>\n",
       "    </tr>\n",
       "    <tr>\n",
       "      <th>1014</th>\n",
       "      <td>Slovenia</td>\n",
       "      <td>male</td>\n",
       "      <td>3</td>\n",
       "      <td>-0.922202</td>\n",
       "      <td>-0.925547</td>\n",
       "      <td>21</td>\n",
       "    </tr>\n",
       "  </tbody>\n",
       "</table>\n",
       "</div>"
      ],
      "text/plain": [
       "                 Country     Sex  Age  suicide_gdp_capita_corr  \\\n",
       "401               France  female    2                -0.915750   \n",
       "482              Hungary    male    1                -0.910478   \n",
       "621               Latvia  female    4                -0.913773   \n",
       "630            Lithuania    male    3                -0.939565   \n",
       "632            Lithuania    male    4                -0.944062   \n",
       "900   Russian Federation    male    0                -0.921782   \n",
       "1014            Slovenia    male    3                -0.922202   \n",
       "\n",
       "      suicide_gdp_year_corr  n_data_points  \n",
       "401               -0.925342             30  \n",
       "482               -0.908059             26  \n",
       "621               -0.907071             21  \n",
       "630               -0.935572             22  \n",
       "632               -0.950279             22  \n",
       "900               -0.922616             27  \n",
       "1014              -0.925547             21  "
      ]
     },
     "execution_count": 68,
     "metadata": {},
     "output_type": "execute_result"
    }
   ],
   "source": [
    "# is this a tie? how many different demogrpahics high a positive correlation of suicide with the gdp\n",
    "\n",
    "temp2 = temp_df[temp_df['n_data_points']>20]\n",
    "temp2[temp2['suicide_gdp_capita_corr']  < -0.91]"
   ]
  },
  {
   "cell_type": "code",
   "execution_count": 69,
   "metadata": {},
   "outputs": [
    {
     "data": {
      "text/html": [
       "<div>\n",
       "<style scoped>\n",
       "    .dataframe tbody tr th:only-of-type {\n",
       "        vertical-align: middle;\n",
       "    }\n",
       "\n",
       "    .dataframe tbody tr th {\n",
       "        vertical-align: top;\n",
       "    }\n",
       "\n",
       "    .dataframe thead th {\n",
       "        text-align: right;\n",
       "    }\n",
       "</style>\n",
       "<table border=\"1\" class=\"dataframe\">\n",
       "  <thead>\n",
       "    <tr style=\"text-align: right;\">\n",
       "      <th></th>\n",
       "      <th>year</th>\n",
       "      <th>age</th>\n",
       "      <th>suicides_no</th>\n",
       "      <th>population</th>\n",
       "      <th>gdp_per_capita ($)</th>\n",
       "      <th>gdp_for_year($)</th>\n",
       "    </tr>\n",
       "    <tr>\n",
       "      <th>generation</th>\n",
       "      <th></th>\n",
       "      <th></th>\n",
       "      <th></th>\n",
       "      <th></th>\n",
       "      <th></th>\n",
       "      <th></th>\n",
       "    </tr>\n",
       "  </thead>\n",
       "  <tbody>\n",
       "    <tr>\n",
       "      <th>0</th>\n",
       "      <td>2955886</td>\n",
       "      <td>0</td>\n",
       "      <td>15906</td>\n",
       "      <td>2503541842</td>\n",
       "      <td>37678558</td>\n",
       "      <td>949835197307338</td>\n",
       "    </tr>\n",
       "    <tr>\n",
       "      <th>1</th>\n",
       "      <td>11715748</td>\n",
       "      <td>4140</td>\n",
       "      <td>623459</td>\n",
       "      <td>10649461202</td>\n",
       "      <td>111331886</td>\n",
       "      <td>2880793919812842</td>\n",
       "    </tr>\n",
       "    <tr>\n",
       "      <th>2</th>\n",
       "      <td>12813552</td>\n",
       "      <td>10424</td>\n",
       "      <td>1532804</td>\n",
       "      <td>13472109292</td>\n",
       "      <td>99996594</td>\n",
       "      <td>2675391350202232</td>\n",
       "    </tr>\n",
       "    <tr>\n",
       "      <th>3</th>\n",
       "      <td>9980242</td>\n",
       "      <td>14622</td>\n",
       "      <td>2284498</td>\n",
       "      <td>13350511729</td>\n",
       "      <td>79750168</td>\n",
       "      <td>2143504656179764</td>\n",
       "    </tr>\n",
       "    <tr>\n",
       "      <th>4</th>\n",
       "      <td>12743414</td>\n",
       "      <td>27354</td>\n",
       "      <td>1781744</td>\n",
       "      <td>9220331647</td>\n",
       "      <td>111948324</td>\n",
       "      <td>2894448317634156</td>\n",
       "    </tr>\n",
       "    <tr>\n",
       "      <th>5</th>\n",
       "      <td>5466166</td>\n",
       "      <td>13090</td>\n",
       "      <td>510009</td>\n",
       "      <td>2126202724</td>\n",
       "      <td>28519510</td>\n",
       "      <td>852089117159382</td>\n",
       "    </tr>\n",
       "  </tbody>\n",
       "</table>\n",
       "</div>"
      ],
      "text/plain": [
       "                year    age  suicides_no   population  gdp_per_capita ($)  \\\n",
       "generation                                                                  \n",
       "0            2955886      0        15906   2503541842            37678558   \n",
       "1           11715748   4140       623459  10649461202           111331886   \n",
       "2           12813552  10424      1532804  13472109292            99996594   \n",
       "3            9980242  14622      2284498  13350511729            79750168   \n",
       "4           12743414  27354      1781744   9220331647           111948324   \n",
       "5            5466166  13090       510009   2126202724            28519510   \n",
       "\n",
       "             gdp_for_year($)  \n",
       "generation                    \n",
       "0            949835197307338  \n",
       "1           2880793919812842  \n",
       "2           2675391350202232  \n",
       "3           2143504656179764  \n",
       "4           2894448317634156  \n",
       "5            852089117159382  "
      ]
     },
     "execution_count": 69,
     "metadata": {},
     "output_type": "execute_result"
    }
   ],
   "source": [
    "# How do age_group and generation and the time descrepency affect things?\n",
    "\n",
    "data.groupby('generation').sum()"
   ]
  },
  {
   "cell_type": "code",
   "execution_count": 70,
   "metadata": {},
   "outputs": [
    {
     "data": {
      "text/plain": [
       "generation\n",
       "0    1470\n",
       "1    5844\n",
       "2    6408\n",
       "3    4990\n",
       "4    6364\n",
       "5    2744\n",
       "Name: country, dtype: int64"
      ]
     },
     "execution_count": 70,
     "metadata": {},
     "output_type": "execute_result"
    }
   ],
   "source": [
    "data.groupby('generation').count()['country']"
   ]
  },
  {
   "cell_type": "code",
   "execution_count": 71,
   "metadata": {},
   "outputs": [],
   "source": [
    "# we can do a lot of the same analysis that we did for ages, but for generations.."
   ]
  },
  {
   "cell_type": "code",
   "execution_count": 72,
   "metadata": {},
   "outputs": [],
   "source": [
    "def to_timeseries(country, sex):\n",
    "    tmp = data[(data['country'] == country) & (data['sex'] == sex)].groupby(['generation','year']).first()\n",
    "    res = dict(tmp['suicides_no'])\n",
    "    \n",
    "    result = {}\n",
    "    for k,v in res.items():\n",
    "        if k[0] not in result.keys():\n",
    "            result[k[0]] = [[k[1]],[v]]\n",
    "        else:\n",
    "            temp = result[k[0]]\n",
    "            temp[0].append(k[1])\n",
    "            temp[1].append(v)\n",
    "            result[k[0]] = temp\n",
    "            \n",
    "    return result\n",
    "\n",
    "\n"
   ]
  },
  {
   "cell_type": "code",
   "execution_count": 73,
   "metadata": {},
   "outputs": [
    {
     "data": {
      "image/png": "[encoded data removed]",
      "text/plain": [
       "<Figure size 1152x576 with 2 Axes>"
      ]
     },
     "metadata": {
      "needs_background": "light"
     },
     "output_type": "display_data"
    }
   ],
   "source": [
    "fig, axs = plt.subplots(2, figsize = (16,8))\n",
    "result = to_timeseries('Austria','female')\n",
    "for age_group in result.keys():\n",
    "    x,y = result[age_group]\n",
    "    axs[0].plot(x,y, label = inv_gen_mapper[age_group])\n",
    "    axs[0].legend()\n",
    "    \n",
    "axs[0].set_xlabel('Years')\n",
    "axs[0].set_ylabel('Suicide_no')\n",
    "axs[0].set_title('# suicides every year per age group for FEMALES')\n",
    "axs[0].grid()\n",
    "\n",
    "\n",
    "result = to_timeseries('Germany','male')\n",
    "for age_group in result.keys():\n",
    "    x,y = result[age_group]\n",
    "    axs[1].plot(x,y, label = inv_gen_mapper[age_group])\n",
    "    axs[1].legend()\n",
    "    \n",
    "axs[1].set_xlabel('Years')\n",
    "axs[1].set_ylabel('Suicide_no')\n",
    "axs[1].set_title('# suicides every year per age group MALES')\n",
    "axs[1].grid()\n",
    "plt.show()"
   ]
  },
  {
   "cell_type": "code",
   "execution_count": 74,
   "metadata": {},
   "outputs": [
    {
     "data": {
      "application/vnd.jupyter.widget-view+json": {
       "model_id": "746125946c1349caa49de34004e5abac",
       "version_major": 2,
       "version_minor": 0
      },
      "text/plain": [
       "HBox(children=(FloatProgress(value=0.0, max=101.0), HTML(value='')))"
      ]
     },
     "metadata": {},
     "output_type": "display_data"
    },
    {
     "name": "stdout",
     "output_type": "stream",
     "text": [
      "\n"
     ]
    }
   ],
   "source": [
    "#Can we see a trend? We can appeal to a very simply linear regression to ask this.\n",
    "from sklearn import linear_model\n",
    "\n",
    "\n",
    "MSEs = []\n",
    "t_coef = []\n",
    "t2_coef = []\n",
    "t3_coef = []\n",
    "intercept = []\n",
    "country_list = []\n",
    "sex_list = []\n",
    "gen_list = []\n",
    "\n",
    "\n",
    "for country in tqdm_notebook(countries):\n",
    "    for sex in ['male','female']:\n",
    "        for gen in [0,1,2,3,4,5]:\n",
    "            \n",
    "\n",
    "            result = to_timeseries(country,sex)\n",
    "\n",
    "            model = linear_model.LinearRegression()\n",
    "            \n",
    "            try:\n",
    "                X = np.array(result[age_group][0]).reshape(-1,1)\n",
    "            except:\n",
    "                continue\n",
    "            \n",
    "            t0 = X[0]\n",
    "            t = [0]\n",
    "            for i in range(0,len(X)-1):\n",
    "                t.append((X[i+1] - t0).item())\n",
    "            X = np.array(t)\n",
    "            X = np.concatenate([[X],[X**2],[X**3]],0).T #adding a quadratic term\n",
    "            y = np.array(result[age_group][1]).reshape(-1,1)\n",
    "            model.fit(X,y)\n",
    "            \n",
    "            \n",
    "            coef = model.coef_[0]\n",
    "            t_coef.append(coef[0])\n",
    "            t2_coef.append(coef[1])\n",
    "            t3_coef.append(coef[2])\n",
    "            \n",
    "            intercept.append(model.intercept_[0])\n",
    "            diff = model.predict(X) - y\n",
    "            MSE = np.mean(diff**2)\n",
    "            \n",
    "            MSEs.append(MSE)\n",
    "              \n",
    "            country_list.append(country)\n",
    "            sex_list.append(sex)\n",
    "            gen_list.append(gen)\n"
   ]
  },
  {
   "cell_type": "code",
   "execution_count": 75,
   "metadata": {},
   "outputs": [],
   "source": [
    "trend_df = pd.DataFrame({'Country':country_list,'Sex':sex_list,'GEn group':gen_list,'Linear term':t_coef,\\\n",
    "                        'Quadratic term':t2_coef,'Cubic term':t3_coef,'Intercept':intercept,'MSE':MSEs})"
   ]
  },
  {
   "cell_type": "code",
   "execution_count": 76,
   "metadata": {},
   "outputs": [
    {
     "data": {
      "text/plain": [
       "count     1116.000000\n",
       "mean       561.110019\n",
       "std       2983.468127\n",
       "min          0.000000\n",
       "25%          0.285714\n",
       "50%          9.934784\n",
       "75%        132.719897\n",
       "max      36361.128109\n",
       "Name: MSE, dtype: float64"
      ]
     },
     "execution_count": 76,
     "metadata": {},
     "output_type": "execute_result"
    }
   ],
   "source": [
    "trend_df['MSE'].describe()"
   ]
  },
  {
   "cell_type": "code",
   "execution_count": 77,
   "metadata": {},
   "outputs": [],
   "source": [
    "# Let's drop very bad MSE outliers for which the model made no sense - we keep upto th 75% percentile\n",
    "trend_df_75 = trend_df[trend_df['MSE'] < 140]"
   ]
  },
  {
   "cell_type": "code",
   "execution_count": 78,
   "metadata": {},
   "outputs": [],
   "source": [
    "# the 75% percentile is of the order 2 - and there is a huge discrepency between the maximum and the upper range \n",
    "# thus I reckon we can view the maximum as an outlier in this case.\n",
    "\n",
    "# Let's try to cluster in the regression coefficient space:\n",
    "\n",
    "coefficients = trend_df_75[['Linear term','Quadratic term']]"
   ]
  },
  {
   "cell_type": "code",
   "execution_count": 79,
   "metadata": {},
   "outputs": [
    {
     "data": {
      "text/plain": [
       "KMeans(algorithm='auto', copy_x=True, init='k-means++', max_iter=300,\n",
       "       n_clusters=3, n_init=10, n_jobs=None, precompute_distances='auto',\n",
       "       random_state=None, tol=0.0001, verbose=0)"
      ]
     },
     "execution_count": 79,
     "metadata": {},
     "output_type": "execute_result"
    }
   ],
   "source": [
    "from sklearn.cluster import KMeans\n",
    "\n",
    "kmeans_model = KMeans(n_clusters=3)\n",
    "kmeans_model.fit(coefficients.values)"
   ]
  },
  {
   "cell_type": "code",
   "execution_count": 80,
   "metadata": {},
   "outputs": [],
   "source": [
    "clusters = kmeans_model.cluster_centers_.T"
   ]
  },
  {
   "cell_type": "code",
   "execution_count": 81,
   "metadata": {},
   "outputs": [
    {
     "data": {
      "image/png": "[encoded data removed]",
      "text/plain": [
       "<Figure size 1440x720 with 1 Axes>"
      ]
     },
     "metadata": {
      "needs_background": "light"
     },
     "output_type": "display_data"
    }
   ],
   "source": [
    "plt.figure(figsize=(20,10))\n",
    "plt.scatter(coefficients['Linear term'].values, coefficients['Quadratic term'].values)\n",
    "plt.scatter(clusters[0],clusters[1], color = 'red', marker = 'x')\n",
    "plt.xlabel('Linear term')\n",
    "plt.ylabel('Quadratic term')\n",
    "\n",
    "plt.grid()"
   ]
  },
  {
   "cell_type": "code",
   "execution_count": 82,
   "metadata": {},
   "outputs": [],
   "source": [
    "trend_df_75['Kmeans_cluster'] = trend_df_75[['Linear term','Quadratic term']].apply(lambda x : kmeans_model.predict([[x[0],x[1]]])[0],1)"
   ]
  },
  {
   "cell_type": "code",
   "execution_count": 83,
   "metadata": {},
   "outputs": [
    {
     "data": {
      "text/plain": [
       "0       0\n",
       "1       0\n",
       "2       0\n",
       "3       0\n",
       "4       0\n",
       "       ..\n",
       "1111    0\n",
       "1112    0\n",
       "1113    0\n",
       "1114    0\n",
       "1115    0\n",
       "Name: Kmeans_cluster, Length: 858, dtype: int64"
      ]
     },
     "execution_count": 83,
     "metadata": {},
     "output_type": "execute_result"
    }
   ],
   "source": [
    "trend_df_75['Kmeans_cluster'] "
   ]
  },
  {
   "cell_type": "code",
   "execution_count": null,
   "metadata": {},
   "outputs": [],
   "source": []
  }
 ],
 "metadata": {
  "kernelspec": {
   "display_name": "Python 3.6.9 64-bit ('ml_env': conda)",
   "language": "python",
   "name": "python36964bitmlenvconda9f54039d931e4029adcffd4ea832f0f0"
  },
  "language_info": {
   "codemirror_mode": {
    "name": "ipython",
    "version": 3
   },
   "file_extension": ".py",
   "mimetype": "text/x-python",
   "name": "python",
   "nbconvert_exporter": "python",
   "pygments_lexer": "ipython3",
   "version": "3.6.9"
  }
 },
 "nbformat": 4,
 "nbformat_minor": 2
}
